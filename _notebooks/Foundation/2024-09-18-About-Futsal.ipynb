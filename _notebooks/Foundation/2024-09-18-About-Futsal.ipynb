{
 "cells": [
  {
   "cell_type": "raw",
   "metadata": {
    "vscode": {
     "languageId": "raw"
    }
   },
   "source": [
    "---\n",
    "layout: post\n",
    "title: About Futsal\n",
    "description: GitHub Pages Hacks\n",
    "type: issues \n",
    "categories: [Personal]\n",
    "comments: true\n",
    "permalink: /futsal\n",
    "---"
   ]
  },
  {
   "cell_type": "markdown",
   "metadata": {},
   "source": []
  },
  {
   "cell_type": "markdown",
   "metadata": {},
   "source": [
    "## What is Futsal\n",
    "\n",
    "Fustal is a fast-paced indoor variant of soccer that is played on a smaller, hard court (like basketball). Each team has 5 players, including a goalkeeper. Futsal is played with a smaller, heavier ball, that encourages players to use their feet and technical abilities. The game emphasizes ball control, quick passing, and skillful play, and has high-scoring matches. Matches are played in two 20-minutes halves, and the sport is popular everywhere, except the United States, and serves as a sport for young soccer players to develop their technical skills from a young age. About 30 million people play it worldwide, especially in soccer(football)-prominent countries like Brazil, Spain, and Portugal. However, only about 2 million play Futsal in America. Futsal was first featured in the 2018 Buenos Aires Youth Olympic Games, where Brazil (men's) and Portugal (women's) took home gold. Futsal has only been in the Youth Olympics, which annoys me, but there is a FIFA World Cup.\n",
    "\n",
    "## Futsal Rules\n",
    "\n",
    "- Each team has 5 players (4 field players and 1 goallkeeper)\n",
    "- Halves are 20 minutes long with a 1-minute break\n",
    "- There are unlimited subsitutions, but the game does not stop for them\n",
    "- There are no offsides\n",
    "- Instead of throw-ins, there are kick-ins, where players kick the ball in from the sideline instead of throwing it. \n",
    "- On corner kicks and kick-ins, players have 4 seconds to release the ball or it is turned over to the opposing side\n",
    "- Fouls are the same as soccer, but 5 fouls in a half results in a penalty kick and each foul after that is also a penalty kick (which are taken from 10 meters away)\n",
    "- Free kicks are the same as soccer (taken from the spot of the foul), and defenders are required to be at least 5 meters away\n",
    "- The goalkeeper cannot hold the ball for more than 4 seconds (whether in hands or nor), and after receiving and passing the ball, cannot touch the ball gain unless touched by an opponent\n",
    "- Scoring and kick-off is the same as soccer (where a goal is scored after the entire ball crosses the goal line and kick-offs are after halftime, a scored goal, and the start of a game)\n",
    "- Each team is allowed one (1-minute) timeout per half\n",
    "\n",
    "## My Futsal Journey\n",
    "\n",
    "I started playing Futsal when my favorite past coach (who is Portugese) approached my dad and said he was building a club and wanted me to come play for it in 2019. As the club was brand new and Futsal was not a well-known sport, my coach had trouble finding people in my age group (2008), so, he recruited some of his 2009 players from his top team that he had coached to winning a State Cup. Once the team was finalized, out of the 7 people on the team, only 3 (including myself) were 2008s and the rest were 2009s. On top of that, when we were going to play our first games, it was in the Southwest Regionals, and was in the 2007 age group bracket. We ended up smashing the competition out of the park, winning every game. In the finals, our goalkeeper was not able to attend because he had left for a trip to Australia, so I played goalkeeper and they only scored 3 goals on me. During that tournament, my love for Futsal was born, and I have been playing ever since. It has always been a challenge to find people my age who have wanted to play, and even harder to find players who could compete on my skill level. Multiple \"seasons\" I had to play with boys 1 to 2 years older than me. In the past 3 years, I found out about the United States Youth Futsal (USYF) National ID camps, which scouted and created a team that would go on to play in an international tournament. After easily making it past the USYF State ID camps, I finally found players that were at my skill level. Due to over 150 players being at my first National camp, I was only picked as an alternate and did not make it. During the second year, I played despite having an avulsion fracture on my pelvis, which made me stiff and unable to move the ball well, causing me not to make the team. In my third year, this year, I played the best Futsal I had ever played, but they only wanted to create one team for all of the boys in the 2008, 2007, and 2006 age groups. Even though I not only held my own, but shined, I was not picked, and have focused my efforts on football because it was evident to my family and me that they did not pick players based on what they said they did, which was skill, tactical sense, coachability, mental strength, and agressiveness.\n",
    "\n",
    "## Games\n",
    "\n",
    "[Here is the Argentina vs. Portugal 2021 FIFA Futsal World Cup Full Match Video](https://www.youtube.com/live/kLgx6xTRwmk?si=GO2_o1LJhogEV4lB)\n",
    "\n",
    "[Here is a video explaining the rules of Futsal](https://youtu.be/yASPQtZMvww?si=dzMh3DWQpDlY-jHC)\n",
    "\n",
    "\n"
   ]
  }
 ],
 "metadata": {
  "kernelspec": {
   "display_name": "Emoji",
   "language": "python",
   "name": "python3"
  },
  "language_info": {
   "codemirror_mode": {
    "name": "ipython",
    "version": 3
   },
   "file_extension": ".py",
   "mimetype": "text/x-python",
   "name": "python",
   "nbconvert_exporter": "python",
   "pygments_lexer": "ipython3",
   "version": "3.12.5"
  }
 },
 "nbformat": 4,
 "nbformat_minor": 2
}
