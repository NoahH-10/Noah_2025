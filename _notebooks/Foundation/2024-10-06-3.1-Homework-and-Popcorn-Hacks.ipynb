{
 "cells": [
  {
   "attachments": {},
   "cell_type": "raw",
   "metadata": {
    "vscode": {
     "languageId": "raw"
    }
   },
   "source": [
    "---\n",
    "layout: post\n",
    "title: 3.1 Homework and Popcorn Hacks\n",
    "description: GitHub Pages Hacks\n",
    "type: issues \n",
    "comments: true\n",
    "permalink: /3.1_Homework\n",
    "---"
   ]
  },
  {
   "cell_type": "markdown",
   "metadata": {},
   "source": [
    "# 3.1 Lesson Hacks\n",
    "\n",
    "## Python Popcorn Hacks\n",
    "\n",
    "### Popcorn Hack 1:\n",
    "\n",
    "Make your own variables for members of your team, but follow naming convention for Python"
   ]
  },
  {
   "cell_type": "code",
   "execution_count": null,
   "metadata": {},
   "outputs": [],
   "source": [
    "player_one = \"Noah\"\n",
    "player_two = \"James\"\n",
    "player_three = \"Zafeer\""
   ]
  },
  {
   "cell_type": "markdown",
   "metadata": {},
   "source": [
    "### Popcorn Hack 2: \n",
    "\n",
    "Make a dictionary about fruits!"
   ]
  },
  {
   "cell_type": "code",
   "execution_count": 2,
   "metadata": {},
   "outputs": [
    {
     "name": "stdout",
     "output_type": "stream",
     "text": [
      "Information about mango:\n",
      "Color: yellow, orange\n",
      "\n",
      "List of all fruits:\n",
      "Apple\n",
      "Banana\n",
      "Orange\n",
      "Kiwi\n",
      "Strawberry\n",
      "Grapes\n",
      "Mango\n",
      "Blueberry\n",
      "Pineapple\n",
      "Watermelon\n"
     ]
    }
   ],
   "source": [
    "# Dictionary about fruits and their colors\n",
    "fruits = {\n",
    "    \"apple\": {\n",
    "        \"color\": \"red\",\n",
    "    },\n",
    "    \"banana\": {\n",
    "        \"color\": \"yellow\",\n",
    "    },\n",
    "    \"orange\": {\n",
    "        \"color\": \"orange\",\n",
    "    },\n",
    "    \"kiwi\": {\n",
    "        \"color\": \"brown (outside), green (inside)\",\n",
    "    },\n",
    "    \"strawberry\": {\n",
    "        \"color\": \"red\",\n",
    "    },\n",
    "    \"grapes\": {\n",
    "        \"color\": \"purple or green\",\n",
    "    },\n",
    "    \"mango\": {\n",
    "        \"color\": \"yellow, orange\",\n",
    "    },\n",
    "    \"blueberry\": {\n",
    "        \"color\": \"blue\",\n",
    "    },\n",
    "    \"pineapple\": {\n",
    "        \"color\": \"yellow\",\n",
    "    },\n",
    "    \"watermelon\": {\n",
    "        \"color\": \"green (outside), red (inside)\",\n",
    "    }\n",
    "}\n",
    "\n",
    "# Example of accessing the dictionary\n",
    "print(\"Information about mango:\")\n",
    "mango_info = fruits[\"mango\"]\n",
    "print(f\"Color: {mango_info['color']}\")\n",
    "\n",
    "# List all fruits in the dictionary\n",
    "print(\"\\nList of all fruits:\")\n",
    "for fruit, details in fruits.items():\n",
    "    print(f\"{fruit.capitalize()}\")\n"
   ]
  },
  {
   "cell_type": "markdown",
   "metadata": {},
   "source": [
    "## JavaScript Popcorn Hacks\n",
    "\n",
    "### Popcorn Hack 1:\n",
    "Update an object declared using const correctly"
   ]
  },
  {
   "cell_type": "code",
   "execution_count": null,
   "metadata": {
    "vscode": {
     "languageId": "javascript"
    }
   },
   "outputs": [],
   "source": [
    "const petDetails = {\n",
    "    species: \"cockateil\",\n",
    "    isLoud: true,\n",
    "    name: \"Keiki\",\n",
    "    isCute: true,\n",
    "    ageYears: 5,\n",
    "}\n",
    "\n",
    "// update your object\n",
    "\n",
    "petDetails.ageYears = 4;"
   ]
  },
  {
   "cell_type": "markdown",
   "metadata": {},
   "source": [
    "### Popcorn Hack 2:\n",
    "\n",
    "create your own array using two or more diffrent data types we throughout the lesson!"
   ]
  },
  {
   "cell_type": "code",
   "execution_count": null,
   "metadata": {
    "vscode": {
     "languageId": "javascript"
    }
   },
   "outputs": [],
   "source": [
    "// Creating an array with intergers, strings, floats, and booleans\n",
    "\n",
    "let randomArray = [\n",
    "    10,               // Integer\n",
    "    98359.90641,      // Float\n",
    "    \"Hello,\",         // String\n",
    "    true,             // Boolean\n",
    "    \"Taco\",           // String\n",
    "    98,               // Integer\n",
    "    false             // Boolean\n",
    "];\n",
    "\n",
    "// Accessing elements of the array\n",
    "console.log(randomArray[0]);  // Output: 10 (Integer)\n",
    "console.log(randomArray[1]);  // Output: 98359.90641 (Float)\n",
    "console.log(randomArray[2]);  // Output: \"Hello\" (String)\n",
    "console.log(randomArray[3]);  // Output: true (Boolean)\n",
    "\n",
    "// Modify an element of the array\n",
    "randomArray[5] = 103; // Changing the integer 98 to 103\n",
    "console.log(randomArray[5]);  // Output: 103 (Updated Integer)\n"
   ]
  },
  {
   "cell_type": "markdown",
   "metadata": {},
   "source": [
    "## Homework Hacks \n",
    "\n",
    "### Problem 1:\n",
    "\n",
    "- Define variables automatically using let and const.\n",
    "- Write console.log() statements and demonstrate knowledge of accessing the console correctly\n",
    "- Short function that correctly calls each variable and string them together to make a sentence.\n",
    "- Make sure to follow camelCase\n",
    "- Create code cells to declare, or define, your variables and variable types\n",
    "- Use comments to explain your code\n",
    "- Use console.log statements to view the values of your variables"
   ]
  },
  {
   "cell_type": "code",
   "execution_count": null,
   "metadata": {
    "vscode": {
     "languageId": "javascript"
    }
   },
   "outputs": [],
   "source": [
    " // Declare variables using let and const\n",
    "let firstName = \"Noah\";          // Variable for the first name\n",
    "let lastName = \"Harris\";         // Variable for the last name\n",
    "const age = 16;                  // Constant variable for age\n",
    "const favoriteSubject = \"Math\";  // Constant variable for favorite subject\n",
    "\n",
    "// Use console.log() to print the values of the variables\n",
    "console.log(firstName);           // Output: Noah\n",
    "console.log(lastName);            // Output: Harris\n",
    "console.log(age);                 // Output: 16\n",
    "console.log(favoriteSubject);     // Output: Math\n",
    "\n",
    "// Short function to concatenate and return a sentence\n",
    "function createSentence() {\n",
    "    return `${firstName} ${lastName}is ${age} years old and his favorite subject is ${favoriteSubject}.`;\n",
    "}\n",
    "\n",
    "// Call the function and print the result to the console\n",
    "console.log(createSentence());  // Output: Noah Harris is 16 years old and his favorite subject is Math.\n"
   ]
  },
  {
   "cell_type": "markdown",
   "metadata": {},
   "source": [
    "## Problem 2:\n",
    "\n",
    "Create a average grade calculator using integers and addition. input scores as variables, add them together, and average them out. Using that data create an array of student info (ex: name/age) and average grade.\n",
    "\n",
    "- choose either JavaScript (using an array/object) or python (using a list)\n",
    "- Use comments to explain your code and thought process.\n",
    "- log your work/print with consle"
   ]
  },
  {
   "cell_type": "code",
   "execution_count": 1,
   "metadata": {},
   "outputs": [
    {
     "name": "stdout",
     "output_type": "stream",
     "text": [
      "Student Information with Average Grades:\n",
      "Name: Noah, Average Grade: 99.50\n",
      "Name: James, Average Grade: 79.50\n",
      "Name: Zafeer, Average Grade: 80.50\n"
     ]
    }
   ],
   "source": [
    "# This Python program calculates the average grade of a student and stores\n",
    "# the student's information (name, age, and average grade) in a list\n",
    "\n",
    "# First create a function to calculate the average score\n",
    "def calculate_average(grades):\n",
    "    # Add up all the grades and divide by the number of grades\n",
    "    total_score = sum(grades)\n",
    "    average_score = total_score / len(grades)  # len(grades) gives the number of grades\n",
    "    return average_score\n",
    "\n",
    "# Student data (name and their grades)\n",
    "students = [\n",
    "    {\"name\": \"Noah\", \"grades\": [110, 98, 94, 96]},  # Example: Noah's grades\n",
    "    {\"name\": \"James\", \"grades\": [78, 84, 80, 76]},    # Example: James's grades\n",
    "    {\"name\": \"Zafeer\", \"grades\": [92, 47, 93, 90]} # Example: Zafeer's grades\n",
    "]\n",
    "\n",
    "# Process each student\n",
    "for student in students:\n",
    "    # Calculate the average grade for the current student\n",
    "    avg_grade = calculate_average(student[\"grades\"])\n",
    "    \n",
    "    # Add the calculated average grade to the student's info\n",
    "    student[\"average_grade\"] = avg_grade\n",
    "\n",
    "# Print out student information, including their average grade\n",
    "print(\"Student Information with Average Grades:\")\n",
    "for student in students:\n",
    "    # Print the student's name, age, and their average grade\n",
    "    print(f\"Name: {student['name']}, Average Grade: {student['average_grade']:.2f}\")\n"
   ]
  }
 ],
 "metadata": {
  "kernelspec": {
   "display_name": "Python 3 (ipykernel)",
   "language": "python",
   "name": "python3"
  },
  "language_info": {
   "codemirror_mode": {
    "name": "ipython",
    "version": 3
   },
   "file_extension": ".py",
   "mimetype": "text/x-python",
   "name": "python",
   "nbconvert_exporter": "python",
   "pygments_lexer": "ipython3",
   "version": "3.12.6"
  }
 },
 "nbformat": 4,
 "nbformat_minor": 4
}
