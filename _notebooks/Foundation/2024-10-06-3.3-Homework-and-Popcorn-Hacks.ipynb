{
 "cells": [
  {
   "attachments": {},
   "cell_type": "raw",
   "metadata": {
    "vscode": {
     "languageId": "raw"
    }
   },
   "source": [
    "---\n",
    "layout: post\n",
    "title: 3.5 Homework and Popcorn Hacks\n",
    "description: GitHub Pages Hacks\n",
    "type: issues \n",
    "comments: true\n",
    "permalink: /3.3_Homework\n",
    "---"
   ]
  },
  {
   "cell_type": "markdown",
   "metadata": {},
   "source": [
    "# 3.3 Lesson Hacks\n",
    "\n",
    "## Python Popcorn Hacks\n",
    "\n",
    "### Hack 1: \n",
    "\n",
    "- Define a list of integers\n",
    "- Compute the sum of all of the integers\n",
    "- Print the sum"
   ]
  },
  {
   "cell_type": "code",
   "execution_count": 6,
   "metadata": {},
   "outputs": [
    {
     "name": "stdout",
     "output_type": "stream",
     "text": [
      "The sum of all integers is: 1107.5\n"
     ]
    }
   ],
   "source": [
    "# Defint a list of integers\n",
    "integers = [1, 4, 64, 1034, 4.5]\n",
    "\n",
    "# Compute the sum of all of the integers\n",
    "total_sum = 1 + 4 + 64 + 1034 + 4.5\n",
    "\n",
    "# Print the sum\n",
    "print(\"The sum of all integers is:\", total_sum)"
   ]
  },
  {
   "cell_type": "markdown",
   "metadata": {},
   "source": [
    "### Hack 2: \n",
    "\n",
    "- Prompt the user to enter the price per bag of popcorn.\n",
    "- Prompt the user to enter the number of bags they want to buy.\n",
    "- Calculate the total cost using multiplication.\n",
    "- Print the total cost."
   ]
  },
  {
   "cell_type": "code",
   "execution_count": 2,
   "metadata": {},
   "outputs": [
    {
     "name": "stdout",
     "output_type": "stream",
     "text": [
      "The total cost for 6 bags of popcorn is: $21.00\n"
     ]
    }
   ],
   "source": [
    "# Prompt the user to enter the price per bag of popcorn\n",
    "price_per_bag = float(input(\"Enter the price per bag of popcorn: $\"))\n",
    "\n",
    "# Prompt the user to enter the number of bags they want to buy\n",
    "num_bags = int(input(\"Enter the number of bags you want to buy: \"))\n",
    "\n",
    "# Calculate the total cost using multiplication\n",
    "total_cost = price_per_bag * num_bags\n",
    "\n",
    "# Print the total cost\n",
    "print(f\"The total cost for {num_bags} bags of popcorn is: ${total_cost:.2f}\")"
   ]
  },
  {
   "cell_type": "markdown",
   "metadata": {},
   "source": [
    "### Hack 3:\n",
    "\n",
    "- Prompt the user to enter a number n.\n",
    "- Initialize total_sum to 0.\n",
    "- Use a loop to iterate from 1 to n.\n",
    "- Add each number to total_sum.\n",
    "- Print the total_sum."
   ]
  },
  {
   "cell_type": "code",
   "execution_count": 3,
   "metadata": {},
   "outputs": [
    {
     "name": "stdout",
     "output_type": "stream",
     "text": [
      "The total sum from 1 to 34 is: 595\n"
     ]
    }
   ],
   "source": [
    "# Prompt the user to enter a number n\n",
    "n = int(input(\"Enter a number n: \"))\n",
    "\n",
    "# Initialize total_sum to 0\n",
    "total_sum = 0\n",
    "\n",
    "# Use a loop to iterate from 1 to n\n",
    "for i in range(1, n + 1):\n",
    "    total_sum += i  # Add each number to total_sum\n",
    "\n",
    "# Print the total_sum\n",
    "print(f\"The total sum from 1 to {n} is: {total_sum}\")"
   ]
  },
  {
   "cell_type": "markdown",
   "metadata": {},
   "source": [
    "## Python Homework Hacks\n",
    "\n",
    "### Problem 1:\n",
    "\n",
    "1. Write a function that has a defined list of integers. The function should:\n",
    "    - Compute the arithmetic mean.\n",
    "    - Compute the median.\n",
    "    - Print both results."
   ]
  },
  {
   "cell_type": "code",
   "execution_count": 5,
   "metadata": {},
   "outputs": [
    {
     "name": "stdout",
     "output_type": "stream",
     "text": [
      "Mean: 46.0\n",
      "Median: 39.5\n"
     ]
    }
   ],
   "source": [
    "# Define the function\n",
    "def compute():\n",
    "    # Defined a list of integers\n",
    "    numbers = [4, 15, 30, 49, 85, 93]\n",
    "    \n",
    "    # Compute the arithmetic mean\n",
    "    mean = sum(numbers) / len(numbers)\n",
    "    \n",
    "    # Compute the median\n",
    "    n = len(numbers)\n",
    "    \n",
    "    if n % 2 == 1:  # Odd number of elements\n",
    "        median = numbers[n // 2]\n",
    "    else:  # Even number of elements\n",
    "        median = (numbers[n // 2 - 1] + numbers[n // 2]) / 2\n",
    "    \n",
    "    # Print both results\n",
    "    print(f\"Mean: {mean}\")\n",
    "    print(f\"Median: {median}\")\n",
    "\n",
    "# Call the function to see the results\n",
    "compute()\n"
   ]
  },
  {
   "cell_type": "markdown",
   "metadata": {},
   "source": [
    "### Problem 2:\n",
    "\n",
    "Make a function that takes one variable a. This function should list the sequence of numbers in the Collatz problem. The Collatz Problem is a math problem where you start with a positive integer and if it is odd you multiply by 3 and add 1, and if it is even you divide by 2. Use conditionals and keep repeating or iterating this process, and eventually you should reach 1 no matter what number is taken as input. Make an array that starts at the variable a, and keeps adding integers until it reaches 1, and print the sequence."
   ]
  },
  {
   "cell_type": "code",
   "execution_count": null,
   "metadata": {},
   "outputs": [],
   "source": [
    "def collatz_sequence():\n",
    "    # Define the starting value for a\n",
    "    a = 149  # You can change this value to any positive integer\n",
    "    \n",
    "    # Initialize the list to hold the sequence\n",
    "    sequence = [a]\n",
    "    \n",
    "    # Keep iterating until we reach 1\n",
    "    while a != 1:\n",
    "        if a % 2 == 0:  # If the number is even\n",
    "            a = a // 2\n",
    "        else:  # If the number is odd\n",
    "            a = 3 * a + 1\n",
    "        \n",
    "        # Append the new value to the sequence\n",
    "        sequence.append(a)\n",
    "    \n",
    "    # Print the Collatz sequence\n",
    "    print(\"Collatz Sequence:\", sequence)\n",
    "\n",
    "# Call the function to see the sequence\n",
    "collatz_sequence()"
   ]
  },
  {
   "cell_type": "markdown",
   "metadata": {},
   "source": [
    "## JavaScript Popcorn Hacks\n",
    "\n",
    "### Problem 1:\n",
    "\n",
    "Create a function that uses 4 of the 5 basic arithmetic operations and returns the number 32 as the answer."
   ]
  },
  {
   "cell_type": "code",
   "execution_count": null,
   "metadata": {
    "vscode": {
     "languageId": "javascript"
    }
   },
   "outputs": [],
   "source": [
    "function calculateResult() {\n",
    "    let result = (64 / 2) + (8 - 4) * 2;  // division, addition, subtraction, multiplication\n",
    "    console.log(result);  // Output will be 32\n",
    "}\n",
    "\n",
    "calculateResult();  // Call the function to execute]"
   ]
  },
  {
   "cell_type": "markdown",
   "metadata": {},
   "source": [
    "### Problem 2: \n",
    "\n",
    "Make a function that lets you make a sandwich. Ask for different ingredients and at the end give the sandwich a name."
   ]
  },
  {
   "cell_type": "code",
   "execution_count": null,
   "metadata": {
    "vscode": {
     "languageId": "javascript"
    }
   },
   "outputs": [],
   "source": [
    "function makeSandwich() {\n",
    "    // Prompt the user for different sandwich ingredients\n",
    "    let bread = prompt(\"What type of bread would you like? (e.g., white, whole wheat, rosemary parmesan)\");\n",
    "    let protein = prompt(\"What type of protein would you like? (e.g., turkey, chicken, tofu, roast beef)\");\n",
    "    let cheese = prompt(\"Would you like cheese? (e.g., cheddar, Swiss, none)\");\n",
    "    let veggies = prompt(\"What vegetables would you like? (e.g., lettuce, tomato, onion, none)\");\n",
    "    let condiments = prompt(\"What condiments would you like? (e.g., mayo, mustard, ketchup, none)\");\n",
    "\n",
    "    // Generate the sandwich name based on the choices\n",
    "    let sandwichName = `${protein} Sandwich on ${bread} bread`;\n",
    "\n",
    "    // Display the sandwich ingredients and name\n",
    "    console.log(\"Your sandwich ingredients are:\");\n",
    "    console.log(`Bread: ${bread}`);\n",
    "    console.log(`Protein: ${protein}`);\n",
    "    console.log(`Cheese: ${cheese}`);\n",
    "    console.log(`Veggies: ${veggies}`);\n",
    "    console.log(`Condiments: ${condiments}`);\n",
    "    console.log(`Your sandwich is called: ${sandwichName}`);\n",
    "}\n",
    "\n",
    "// Call the function to make the sandwich\n",
    "makeSandwich();\n"
   ]
  },
  {
   "cell_type": "markdown",
   "metadata": {},
   "source": [
    "### Problem 3:\n",
    "\n",
    "Create a “choose-your-own-path” type of game. There should be 2-3 different storylines the user can choose from (Ex: You see a fight at school. Do you break it up or mind your own buiness.)"
   ]
  },
  {
   "cell_type": "code",
   "execution_count": null,
   "metadata": {
    "vscode": {
     "languageId": "javascript"
    }
   },
   "outputs": [],
   "source": [
    "function startGame() {\n",
    "    // Start the game with the first scenario\n",
    "    let choice1 = prompt(\"It's the last play of the game, and you're the star quarterback! You are on the 40-yard line and need a touchdown to win. What do you want to do?\\n1. Run the ball\\n2. Pass the ball\\n3. Run it yourself (QB Sneak)\");\n",
    "\n",
    "    if (choice1 === \"1\") {\n",
    "        // If the player chooses to run the ball\n",
    "        runPlay();\n",
    "    } else if (choice1 === \"2\") {\n",
    "        // If the player chooses to pass the ball\n",
    "        passPlay();\n",
    "    } else if (choice1 === \"3\") {\n",
    "        // If the player chooses QB sneak\n",
    "        qbSneak();\n",
    "    } else {\n",
    "        // If the player made an invalid choice\n",
    "        alert(\"Please choose either 1, 2, or 3.\");\n",
    "        startGame(); // Ask again if invalid input\n",
    "    }\n",
    "}\n",
    "\n",
    "function runPlay() {\n",
    "    // Scenario when the player chooses to run\n",
    "    alert(\"You decide to call a run play.\");\n",
    "\n",
    "    let choice2 = prompt(\"The team lines up and you start the play Do you: \\n1. Give the ball to the running-back\\n2. Pull the ball and run yourself\");\n",
    "    if (choice2 === \"1\") {\n",
    "        alert(\"You hand off the ball to the running back. He dodges two defenders, stiff-arms another, bolts down the sideline, and hurdles the last one to score the game-winning touchdown!\");\n",
    "        endGame(\"You made the correct read to hand-off to the running back, who turned it into a spectacular touchdown. Your team wins!\");\n",
    "    } else if (choice2 === \"2\") {\n",
    "        alert(\"You decide to pull the ball for yourself, and you dodge two defenders and try to dodge a third. Instead, you get tackled, and the game ends in a loss.\");\n",
    "        endGame(\"You tried to run it in yourself but came up short. Unfortunately, you lost the game.\");\n",
    "    } else {\n",
    "        alert(\"Please choose either 1 or 2.\");\n",
    "        runPlay(); // Ask again if invalid input\n",
    "    }\n",
    "}\n",
    "\n",
    "\n",
    "function passPlay() {\n",
    "    // Scenario when the player chooses to pass\n",
    "    alert(\"You decide to drop back and throw the ball for a pass.\");\n",
    "\n",
    "    let choice2 = prompt(\"You see your wide receiver open, but the defense is closing in. Do you: \\n1. Throw the pass to the receiver\\n2. Hold the ball and wait for a better opportunity\");\n",
    "\n",
    "    if (choice2 === \"1\") {\n",
    "        alert(\"You throw the pass, it arcs high, the receiver one-on-one with the defender. Unfortunately, the defender smacks the ball down. The game ends in a loss.\");\n",
    "        endGame(\"The defense smacks the ball down. Unfortunately, you lost the game.\");\n",
    "    } else if (choice2 === \"2\") {\n",
    "        alert(\"You hesitate and get sacked by the defense. The clock runs out, and the game ends in a loss.\");\n",
    "        endGame(\"You held the ball too long and got sacked. Unfortunately, you lost the game.\");\n",
    "    } else {\n",
    "        alert(\"Please choose either 1 or 2.\");\n",
    "        passPlay(); // Ask again if invalid input\n",
    "    }\n",
    "}\n",
    "\n",
    "function qbSneak() {\n",
    "    // Scenario when the player chooses to QB sneak\n",
    "    alert(\"You decide to try a quarterback sneak!\");\n",
    "\n",
    "    alert(\"You charge forward, but the defense is ready and tackles you instantly. The game ends, and you lose.\");\n",
    "    endGame(\"The QB sneak failed, and you got tackled. Unfortunately, you lost the game.\");\n",
    "}\n",
    "\n",
    "function endGame(outcome) {\n",
    "    // Show the end result and ask if they want to play again\n",
    "    alert(`Game Over! \\n\\nOutcome: ${outcome}`);\n",
    "    let playAgain = prompt(\"Do you want to play again? (yes/no)\");\n",
    "\n",
    "    if (playAgain.toLowerCase() === \"yes\") {\n",
    "        startGame(); // Restart the game if they want to play again\n",
    "    } else {\n",
    "        alert(\"Thanks for playing!\");\n",
    "    }\n",
    "}\n",
    "\n",
    "// Start the game\n",
    "startGame();"
   ]
  },
  {
   "cell_type": "markdown",
   "metadata": {},
   "source": [
    "## JavaScript Homework Hacks\n",
    "\n",
    "# Problem 1:\n",
    "\n",
    "- Write a function that takes two variables a and b. The function should:\n",
    "- Compute the Greatest Common Divisor (GCD) of a and b.\n",
    "- Compute the Least Common Multiple (LCM) of a and b.\n",
    "- Return both results as an object."
   ]
  },
  {
   "cell_type": "code",
   "execution_count": null,
   "metadata": {
    "vscode": {
     "languageId": "javascript"
    }
   },
   "outputs": [],
   "source": [
    "function computeGCDandLCM() {\n",
    "    // Replace a and b with specific numbers\n",
    "    let a = 12;\n",
    "    let b = 18;\n",
    "\n",
    "\n",
    "    // Continue until one of the numbers becomes 0\n",
    "    while (a !== 0) {\n",
    "        let temp = a;\n",
    "        a = b % a;\n",
    "        b = temp;\n",
    "    }\n",
    "    \n",
    "    // The GCD is now stored in 'a'\n",
    "    let gcdValue = a;\n",
    "\n",
    "    // Compute LCM using the formula: LCM(a, b) = (a * b) / GCD(a, b)\n",
    "    let lcmValue = (a * b) / gcdValue;\n",
    "\n",
    "    // Return both GCD and LCM as an object\n",
    "    return {\n",
    "        GCD: gcdValue,\n",
    "        LCM: lcmValue\n",
    "    };\n",
    "}\n",
    "\n",
    "// Example usage:\n",
    "let result = computeGCDandLCM();\n",
    "\n",
    "console.log(`GCD of 12 and 18 is: ${result.GCD}`);\n",
    "console.log(`LCM of 12 and 18 is: ${result.LCM}`);\n"
   ]
  },
  {
   "cell_type": "markdown",
   "metadata": {},
   "source": [
    "## Problem 2:\n",
    "\n",
    "Write a function that takes a positive integer n and returns an array of its prime factors. Prime factors are the prime numbers that divide n exactly, without leaving a remainder. If n is a prime number, the array should simply contain n."
   ]
  },
  {
   "cell_type": "code",
   "execution_count": null,
   "metadata": {
    "vscode": {
     "languageId": "javascript"
    }
   },
   "outputs": [],
   "source": [
    "function getPrimeFactors(n) {\n",
    "    const primeFactors = [];\n",
    "\n",
    "    // Handle factor of 2 separately for efficiency\n",
    "    while (n % 2 === 0) {\n",
    "        primeFactors.push(2);\n",
    "        n /= 2;\n",
    "    }\n",
    "\n",
    "    // Check for odd factors from 3 up to the square root of n\n",
    "    for (let i = 3; i * i <= n; i += 2) {\n",
    "        while (n % i === 0) {\n",
    "            primeFactors.push(i);\n",
    "            n /= i;\n",
    "        }\n",
    "    }\n",
    "\n",
    "    // If n is still greater than 2, then it's a prime factor\n",
    "    if (n > 2) {\n",
    "        primeFactors.push(n);\n",
    "    }\n",
    "\n",
    "    return primeFactors;\n",
    "}\n",
    "\n",
    "console.log(getPrimeFactors(60)); // [2, 2, 3, 5]\n",
    "console.log(getPrimeFactors(13)); // [13]\n",
    "console.log(getPrimeFactors(97)); // [97]"
   ]
  }
 ],
 "metadata": {
  "kernelspec": {
   "display_name": "Python 3 (ipykernel)",
   "language": "python",
   "name": "python3"
  },
  "language_info": {
   "codemirror_mode": {
    "name": "ipython",
    "version": 3
   },
   "file_extension": ".py",
   "mimetype": "text/x-python",
   "name": "python",
   "nbconvert_exporter": "python",
   "pygments_lexer": "ipython3",
   "version": "3.12.6"
  }
 },
 "nbformat": 4,
 "nbformat_minor": 4
}
