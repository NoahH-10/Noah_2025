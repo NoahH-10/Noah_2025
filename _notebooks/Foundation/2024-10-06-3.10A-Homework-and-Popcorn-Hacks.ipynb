{
 "cells": [
  {
   "attachments": {},
   "cell_type": "raw",
   "metadata": {
    "vscode": {
     "languageId": "raw"
    }
   },
   "source": [
    "---\n",
    "layout: post\n",
    "title: 3.10A Homework and Popcorn Hacks\n",
    "description: GitHub Pages Hacks\n",
    "type: issues \n",
    "comments: true\n",
    "permalink: /3-10A-Homework\n",
    "---"
   ]
  },
  {
   "cell_type": "markdown",
   "metadata": {},
   "source": [
    "# Popcorn Hacks\n",
    "\n",
    "## Popcorn Hack 1:\n",
    "\n",
    "In this exercise, you will create a simple shopping list application that allows users to add items to a list and display them at the end"
   ]
  },
  {
   "cell_type": "code",
   "execution_count": null,
   "metadata": {
    "vscode": {
     "languageId": "javascript"
    }
   },
   "outputs": [],
   "source": [
    "// JavaScript Example\n",
    "\n",
    "let aList = [];\n",
    "\n",
    "while (true) {\n",
    "    let userInput = prompt(\"Enter an item to add to the shopping list (or type 'q' to quit):\");\n",
    "\n",
    "    if (userInput.toLowerCase() === 'q') {\n",
    "        break;\n",
    "    }\n",
    "\n",
    "    aList.push(userInput);\n",
    "    console.log(\"Current Shopping List:\");\n",
    "    console.log(aList);\n",
    "}\n",
    "\n",
    "console.log(\"\\nFinal Shopping List:\");\n",
    "for (let i = 0; i < aList.length; i++) {\n",
    "    console.log(aList[i]);\n",
    "}"
   ]
  },
  {
   "cell_type": "code",
   "execution_count": 3,
   "metadata": {},
   "outputs": [
    {
     "name": "stdout",
     "output_type": "stream",
     "text": [
      "Current Shopping List:\n",
      "['eggs']\n",
      "Current Shopping List:\n",
      "['eggs', 'ribs']\n",
      "Current Shopping List:\n",
      "['eggs', 'ribs', 'milk']\n",
      "Current Shopping List:\n",
      "['eggs', 'ribs', 'milk', 'cheese']\n",
      "Current Shopping List:\n",
      "['eggs', 'ribs', 'milk', 'cheese', 'yogurt']\n",
      "Current Shopping List:\n",
      "['eggs', 'ribs', 'milk', 'cheese', 'yogurt', 'flour']\n",
      "Current Shopping List:\n",
      "['eggs', 'ribs', 'milk', 'cheese', 'yogurt', 'flour', 'butter']\n",
      "Current Shopping List:\n",
      "['eggs', 'ribs', 'milk', 'cheese', 'yogurt', 'flour', 'butter', 'roses']\n",
      "\n",
      "Your final shopping list is:\n",
      "eggs\n",
      "ribs\n",
      "milk\n",
      "cheese\n",
      "yogurt\n",
      "flour\n",
      "butter\n",
      "roses\n"
     ]
    }
   ],
   "source": [
    "# Python Example\n",
    "def shopping_list():\n",
    "    a_list = []  \n",
    "\n",
    "    while True:\n",
    "        user_input = input(\"Enter an item you want to add to the shopping list (or 'q' to quit): \")\n",
    "\n",
    "        if user_input == 'q': \n",
    "            break\n",
    "\n",
    "        a_list.append(user_input)  \n",
    "        print(\"Current Shopping List:\")\n",
    "        print(a_list)\n",
    "\n",
    "    print(\"\\nYour final shopping list is:\")\n",
    "    for item in a_list:\n",
    "        print(item)\n",
    "\n",
    "shopping_list()\n"
   ]
  },
  {
   "cell_type": "markdown",
   "metadata": {},
   "source": [
    "## Popcorn Hack 2:\n",
    "\n",
    "- Create a list/array named aList.\n",
    "- Input items into the list/array. After the user is done adding items, display the second element (if it exists) in the list/array.\n",
    "- After adding items to the list/array, delete the second element (if it exists) and display the updated list/array."
   ]
  },
  {
   "cell_type": "code",
   "execution_count": null,
   "metadata": {
    "vscode": {
     "languageId": "javascript"
    }
   },
   "outputs": [],
   "source": [
    "// JavaScript Version\n",
    "let aList = [];\n",
    "\n",
    "while (true) {\n",
    "    let userInput = prompt(\"Enter an item to add to the list (or type 'q' to quit):\");\n",
    "\n",
    "    if (userInput.toLowerCase() === 'q') {\n",
    "        break; \n",
    "    }\n",
    "\n",
    "    aList.push(userInput);\n",
    "}\n",
    "\n",
    "if (aList.length > 1) {\n",
    "    console.log(\"Second element in the list: \" + aList[1]);\n",
    "} else {\n",
    "    console.log(\"There is no second element in the list.\");\n",
    "}\n",
    "\n",
    "if (aList.length > 1) {\n",
    "    aList.splice(1, 1);\n",
    "    console.log(\"Updated list after removing the second element:\");\n",
    "    console.log(aList);\n",
    "} else {\n",
    "    console.log(\"No second element to remove.\");\n",
    "}"
   ]
  },
  {
   "cell_type": "code",
   "execution_count": 7,
   "metadata": {},
   "outputs": [
    {
     "name": "stdout",
     "output_type": "stream",
     "text": [
      "Second element in the list: 14\n",
      "Updated list after removing the second element:\n",
      "['13', '5', '6', '865', '435']\n"
     ]
    }
   ],
   "source": [
    "# Python Version\n",
    "a_list = []\n",
    "\n",
    "while True:\n",
    "    user_input = input(\"Enter an item to add to the list (or type 'q' to quit): \")\n",
    "\n",
    "    if user_input.lower() == 'q':\n",
    "        break\n",
    "\n",
    "    a_list.append(user_input)\n",
    "\n",
    "if len(a_list) > 1:\n",
    "    print(\"Second element in the list:\", a_list[1])\n",
    "else:\n",
    "    print(\"There is no second element in the list.\")\n",
    "\n",
    "if len(a_list) > 1:\n",
    "    a_list.pop(1)  \n",
    "    print(\"Updated list after removing the second element:\")\n",
    "    print(a_list)\n",
    "else:\n",
    "    print(\"No second element to remove.\")"
   ]
  },
  {
   "cell_type": "markdown",
   "metadata": {},
   "source": [
    "## Popcorn Hack 3:\n",
    "\n",
    "- Create a list of your five favorite foods.\n",
    "- Add two more items to your list using the .push() method.\n",
    "- Find and print the total number of items in the list using .length"
   ]
  },
  {
   "cell_type": "code",
   "execution_count": null,
   "metadata": {
    "vscode": {
     "languageId": "javascript"
    }
   },
   "outputs": [],
   "source": [
    "// JavaScript Version\n",
    "let favoriteFoods = ['tacos', 'spaghetti', 'hamburgers', 'chicken', 'curry'];\n",
    "\n",
    "favoriteFoods.push('barbecue ribs');\n",
    "favoriteFoods.push('pancakes');\n",
    "\n",
    "console.log(\"Total number of items in the list: \" + favoriteFoods.length);\n"
   ]
  },
  {
   "cell_type": "code",
   "execution_count": 6,
   "metadata": {},
   "outputs": [
    {
     "name": "stdout",
     "output_type": "stream",
     "text": [
      "Total number of items in the list: 7\n"
     ]
    }
   ],
   "source": [
    "# Python Version\n",
    "favorite_foods = ['tacos', 'spaghetti', 'hamburgers', 'chicken', 'curry']\n",
    "\n",
    "favorite_foods.append('barbecue ribs')\n",
    "favorite_foods.append('pancakes')\n",
    "\n",
    "print(\"Total number of items in the list:\", len(favorite_foods))\n"
   ]
  },
  {
   "cell_type": "markdown",
   "metadata": {},
   "source": [
    "## Popcorn Hack 4:\n",
    "\n",
    "- Find the sum of all the even numbers of a list called nums with integers using the previous list opperations.\n",
    "- Define your list and define a variable to represent a potential value."
   ]
  },
  {
   "cell_type": "code",
   "execution_count": 5,
   "metadata": {},
   "outputs": [
    {
     "name": "stdout",
     "output_type": "stream",
     "text": [
      "Sum of all even numbers: 72\n"
     ]
    }
   ],
   "source": [
    "nums = [4, 10 , 51, 53, 30, 45, 28]\n",
    "even_sum = 0\n",
    "\n",
    "for num in nums:\n",
    "    if num % 2 == 0:  # Check if the number is even\n",
    "        even_sum += num\n",
    "\n",
    "print(\"Sum of all even numbers:\", even_sum)"
   ]
  },
  {
   "cell_type": "code",
   "execution_count": null,
   "metadata": {
    "vscode": {
     "languageId": "javascript"
    }
   },
   "outputs": [],
   "source": [
    "// JavaScript Version\n",
    "const nums = [4, 10, 51, 53, 30, 45, 28];\n",
    "let even_sum = 0;\n",
    "\n",
    "for (let i = 0; i < nums.length; i++) {\n",
    "    if (nums[i] % 2 === 0) {  \n",
    "        even_sum += nums[i];\n",
    "    }\n",
    "}\n",
    "\n",
    "console.log(\"Sum of all even numbers:\", even_sum);\n"
   ]
  },
  {
   "cell_type": "markdown",
   "metadata": {},
   "source": [
    "## Problem 5:\n",
    "\n",
    "Use if else statements for an efficient way to determine the presenence of a certain element."
   ]
  },
  {
   "cell_type": "code",
   "execution_count": null,
   "metadata": {
    "vscode": {
     "languageId": "javascript"
    }
   },
   "outputs": [],
   "source": [
    "// JavaScript Version\n",
    "\n",
    "let fruits = [\"apple\", \"banana\", \"orange\"];\n",
    "let fruit = \"banana\";\n",
    "\n",
    "if (fruits.includes(fruit)) {\n",
    "    console.log(`${fruit} is in the list.`);\n",
    "} else {\n",
    "    console.log(`${fruit} is not in the list.`);\n",
    "}"
   ]
  },
  {
   "cell_type": "code",
   "execution_count": 4,
   "metadata": {},
   "outputs": [
    {
     "name": "stdout",
     "output_type": "stream",
     "text": [
      "banana is in the list.\n"
     ]
    }
   ],
   "source": [
    "# Python Version\n",
    "\n",
    "fruits = [\"apple\", \"banana\", \"orange\"]\n",
    "fruit = \"banana\"\n",
    "\n",
    "if fruit in fruits:\n",
    "    print(f\"{fruit} is in the list.\")\n",
    "else:\n",
    "    print(f\"{fruit} is not in the list.\")\n"
   ]
  },
  {
   "cell_type": "markdown",
   "metadata": {},
   "source": [
    "# Homework Hacks \n",
    "\n",
    "## Problem 1:\n",
    "\n",
    "Write a Python program that creates a list of the following numbers: 10, 20, 30, 40, 50. Then, print the second element in the list."
   ]
  },
  {
   "cell_type": "code",
   "execution_count": 2,
   "metadata": {},
   "outputs": [
    {
     "name": "stdout",
     "output_type": "stream",
     "text": [
      "20\n"
     ]
    }
   ],
   "source": [
    " # Create the list\n",
    "numbers = [10, 20, 30, 40, 50]\n",
    "\n",
    "# Print the second element \n",
    "print(numbers[1])"
   ]
  },
  {
   "cell_type": "markdown",
   "metadata": {},
   "source": [
    "## Problem 2:\n",
    "\n",
    "Write a JavaScript program that creates an array of the following numbers: 10, 20, 30, 40, 50. Then, log the second element in the array to the console."
   ]
  },
  {
   "cell_type": "code",
   "execution_count": null,
   "metadata": {
    "vscode": {
     "languageId": "javascript"
    }
   },
   "outputs": [],
   "source": [
    "// Create the array\n",
    "let numbers = [10, 20, 30, 40, 50];\n",
    "\n",
    "// Log the second element (index 1, since JavaScript uses 0-based indexing)\n",
    "console.log(numbers[1]);"
   ]
  },
  {
   "cell_type": "markdown",
   "metadata": {},
   "source": [
    "## Problem 3:\n",
    "\n",
    "Python: Create a to-do list in which users can add, remove, and view items in their list."
   ]
  },
  {
   "cell_type": "code",
   "execution_count": 11,
   "metadata": {},
   "outputs": [
    {
     "name": "stdout",
     "output_type": "stream",
     "text": [
      "\n",
      "To-Do List Menu:\n",
      "1. Add an item\n",
      "2. Remove an item\n",
      "3. View all items\n",
      "4. Exit\n",
      "'Do Homework' has been added to your to-do list.\n",
      "\n",
      "To-Do List Menu:\n",
      "1. Add an item\n",
      "2. Remove an item\n",
      "3. View all items\n",
      "4. Exit\n",
      "'Study for Test' has been added to your to-do list.\n",
      "\n",
      "To-Do List Menu:\n",
      "1. Add an item\n",
      "2. Remove an item\n",
      "3. View all items\n",
      "4. Exit\n",
      "'Eat Dinner' has been added to your to-do list.\n",
      "\n",
      "To-Do List Menu:\n",
      "1. Add an item\n",
      "2. Remove an item\n",
      "3. View all items\n",
      "4. Exit\n",
      "'Sleep' has been added to your to-do list.\n",
      "\n",
      "To-Do List Menu:\n",
      "1. Add an item\n",
      "2. Remove an item\n",
      "3. View all items\n",
      "4. Exit\n",
      "\n",
      "Your To-Do List:\n",
      "1. Do Homework\n",
      "2. Study for Test\n",
      "3. Eat Dinner\n",
      "4. Sleep\n",
      "\n",
      "To-Do List Menu:\n",
      "1. Add an item\n",
      "2. Remove an item\n",
      "3. View all items\n",
      "4. Exit\n",
      "'Study for Test' has been removed from your to-do list.\n",
      "\n",
      "To-Do List Menu:\n",
      "1. Add an item\n",
      "2. Remove an item\n",
      "3. View all items\n",
      "4. Exit\n",
      "'Eat Dinner' has been removed from your to-do list.\n",
      "\n",
      "To-Do List Menu:\n",
      "1. Add an item\n",
      "2. Remove an item\n",
      "3. View all items\n",
      "4. Exit\n",
      "'Do Homework' has been removed from your to-do list.\n",
      "\n",
      "To-Do List Menu:\n",
      "1. Add an item\n",
      "2. Remove an item\n",
      "3. View all items\n",
      "4. Exit\n",
      "Goodbye!\n"
     ]
    }
   ],
   "source": [
    "def display_menu():\n",
    "    print(\"\\nTo-Do List Menu:\")\n",
    "    print(\"1. Add an item\")\n",
    "    print(\"2. Remove an item\")\n",
    "    print(\"3. View all items\")\n",
    "    print(\"4. Exit\")\n",
    "\n",
    "def main():\n",
    "    todo_list = []\n",
    "\n",
    "    while True:\n",
    "        display_menu()\n",
    "\n",
    "        # Prompt the user for an action\n",
    "        choice = input(\"Choose an option (1-4): \")\n",
    "\n",
    "        if choice == '1':\n",
    "            item = input(\"Enter the item to add: \")\n",
    "            todo_list.append(item)\n",
    "            print(f\"'{item}' has been added to your to-do list.\")\n",
    "\n",
    "        elif choice == '2':\n",
    "            if not todo_list:\n",
    "                print(\"Your to-do list is empty, nothing to remove.\")\n",
    "            else:\n",
    "                item = input(\"Enter the item to remove: \")\n",
    "                if item in todo_list:\n",
    "                    todo_list.remove(item)\n",
    "                    print(f\"'{item}' has been removed from your to-do list.\")\n",
    "                else:\n",
    "                    print(f\"'{item}' was not found in your to-do list.\")\n",
    "\n",
    "        elif choice == '3':\n",
    "            if todo_list:\n",
    "                print(\"\\nYour To-Do List:\")\n",
    "                for idx, item in enumerate(todo_list, 1):\n",
    "                    print(f\"{idx}. {item}\")\n",
    "            else:\n",
    "                print(\"Your to-do list is currently empty.\")\n",
    "\n",
    "        elif choice == '4':\n",
    "            print(\"Goodbye!\")\n",
    "            break\n",
    "\n",
    "        else:\n",
    "            print(\"Invalid choice, please select a valid option (1-4).\")\n",
    "\n",
    "if __name__ == \"__main__\":\n",
    "    main()"
   ]
  },
  {
   "cell_type": "markdown",
   "metadata": {},
   "source": [
    "## Problem 4:\n",
    "\n",
    "JavaScript: Create a workout tracker where users can log their workouts, including type, duration, and calories burned."
   ]
  },
  {
   "cell_type": "code",
   "execution_count": null,
   "metadata": {
    "vscode": {
     "languageId": "javascript"
    }
   },
   "outputs": [],
   "source": [
    "let workoutLog = [];\n",
    "\n",
    "function displayMenu() {\n",
    "    console.log(\"\\nWorkout Tracker Menu:\");\n",
    "    console.log(\"1. Log a workout\");\n",
    "    console.log(\"2. View workout logs\");\n",
    "    console.log(\"3. Exit\");\n",
    "}\n",
    "\n",
    "function logWorkout() {\n",
    "    let type = prompt(\"Enter workout type (e.g., Running, Cycling, Swimming): \");\n",
    "    let duration = prompt(\"Enter duration of workout in minutes: \");\n",
    "    let calories = prompt(\"Enter calories burned: \");\n",
    "\n",
    "    // Create a new workout entry object\n",
    "    let workoutEntry = {\n",
    "        type: type,\n",
    "        duration: duration,\n",
    "        calories: calories\n",
    "    };\n",
    "\n",
    "    // Add the entry to the workout log\n",
    "    workoutLog.push(workoutEntry);\n",
    "\n",
    "    console.log(`\\nWorkout logged: ${type} for ${duration} minutes, burning ${calories} calories.`);\n",
    "}\n",
    "\n",
    "function viewWorkouts() {\n",
    "    if (workoutLog.length === 0) {\n",
    "        console.log(\"\\nNo workouts logged yet.\");\n",
    "    } else {\n",
    "        console.log(\"\\nWorkout Log:\");\n",
    "        workoutLog.forEach((entry, index) => {\n",
    "            console.log(`\\nWorkout ${index + 1}:`);\n",
    "            console.log(`Type: ${entry.type}`);\n",
    "            console.log(`Duration: ${entry.duration} minutes`);\n",
    "            console.log(`Calories burned: ${entry.calories}`);\n",
    "        });\n",
    "    }\n",
    "}\n",
    "\n",
    "function main() {\n",
    "    let exit = false;\n",
    "\n",
    "    while (!exit) {\n",
    "        displayMenu();\n",
    "        let choice = prompt(\"Choose an option (1-3): \");\n",
    "\n",
    "        if (choice === '1') {\n",
    "            logWorkout();\n",
    "        } else if (choice === '2') {\n",
    "            viewWorkouts();\n",
    "        } else if (choice === '3') {\n",
    "            console.log(\"Goodbye!\");\n",
    "            exit = true;\n",
    "        } else {\n",
    "            console.log(\"Invalid choice, please select a valid option (1-3).\");\n",
    "        }\n",
    "    }\n",
    "}\n",
    "\n",
    "main();"
   ]
  }
 ],
 "metadata": {
  "kernelspec": {
   "display_name": "Python 3 (ipykernel)",
   "language": "python",
   "name": "python3"
  },
  "language_info": {
   "codemirror_mode": {
    "name": "ipython",
    "version": 3
   },
   "file_extension": ".py",
   "mimetype": "text/x-python",
   "name": "python",
   "nbconvert_exporter": "python",
   "pygments_lexer": "ipython3",
   "version": "3.12.6"
  }
 },
 "nbformat": 4,
 "nbformat_minor": 4
}
