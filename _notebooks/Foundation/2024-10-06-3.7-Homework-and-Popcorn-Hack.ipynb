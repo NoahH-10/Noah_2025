{
 "cells": [
  {
   "attachments": {},
   "cell_type": "raw",
   "metadata": {
    "vscode": {
     "languageId": "raw"
    }
   },
   "source": [
    "---\n",
    "layout: post\n",
    "title: 3.7 Homework and Popcorn Hacks\n",
    "description: GitHub Pages Hacks\n",
    "type: issues \n",
    "comments: true\n",
    "permalink: /3-7-Homework\n",
    "---"
   ]
  },
  {
   "cell_type": "markdown",
   "metadata": {},
   "source": [
    "# 3.7 Lesson Hacks\n",
    "\n",
    "## Python Popcorn Hacks\n",
    "\n",
    "### Popcorn Hack 1:\n",
    "\n",
    "Try adding an additional condition for hiking (like location_determined or miles_in_the_hike)."
   ]
  },
  {
   "cell_type": "code",
   "execution_count": 3,
   "metadata": {},
   "outputs": [
    {
     "name": "stdout",
     "output_type": "stream",
     "text": [
      "The weather is sunny\n",
      "Your transportation is available\n",
      "Your boots are not present\n",
      "Your location is determined\n",
      "You need to find your boots first.\n"
     ]
    }
   ],
   "source": [
    "weather = \"sunny\"\n",
    "transportation = \"available\"\n",
    "boots = \"not present\"\n",
    "location = \"determined\"  # New condition for location\n",
    "\n",
    "print(\"The weather is \" + weather)\n",
    "print(\"Your transportation is \" + transportation)\n",
    "print(\"Your boots are \" + boots)\n",
    "print(\"Your location is \" + location)\n",
    "\n",
    "if location == \"determined\":  # Nested condition for location\n",
    "    if weather == \"sunny\":\n",
    "        if transportation == \"available\":\n",
    "            if boots == \"present\":\n",
    "                print(\"You are ready to go hiking!\")\n",
    "            else:\n",
    "                print(\"You need to find your boots first.\")\n",
    "        else:\n",
    "            print(\"You need to arrange transportation.\")\n",
    "    else:\n",
    "        print(\"It's not good weather for hiking.\")\n",
    "else:\n",
    "    print(\"You haven't determined a location\")\n"
   ]
  },
  {
   "cell_type": "markdown",
   "metadata": {},
   "source": [
    "## Python Homework Hacks\n",
    "\n",
    "### Problem 1:\n",
    "\n",
    "Write Python pseudocode to decide whether or not to go to the beach."
   ]
  },
  {
   "cell_type": "raw",
   "metadata": {
    "vscode": {
     "languageId": "raw"
    }
   },
   "source": [
    "BEGIN\n",
    "    IF weather == \"sunny\" THEN\n",
    "        IF sunscreen == \"yes\" THEN\n",
    "            IF snacks == \"yes\" THEN\n",
    "                OUTPUT \"You are ready for the beach!\"\n",
    "            ELSE\n",
    "                OUTPUT \"You don't have enough snacks. You should get snacks first.\"\n",
    "            END IF\n",
    "        ELSE\n",
    "            OUTPUT \"You don't have sunscreen. You should buy sunscreen.\"\n",
    "        END IF\n",
    "    ELSE\n",
    "        OUTPUT \"It's not a good day for the beach.\"\n",
    "    END IF\n",
    "END"
   ]
  },
  {
   "cell_type": "markdown",
   "metadata": {},
   "source": [
    "### Problem 2:\n",
    "\n",
    "Write a Python code that checks if you can adopt a pet."
   ]
  },
  {
   "cell_type": "code",
   "execution_count": null,
   "metadata": {},
   "outputs": [],
   "source": [
    "def can_adopt_pet(age, space, available):\n",
    "    if age >= 18:  # Check if the person is 18 or older\n",
    "        if space > 50:  # Check if there is enough space in the home\n",
    "            if available:  # Check if the person is available to take care of the pet\n",
    "                print(\"You can adopt a pet!\")\n",
    "            else:\n",
    "                print(\"You need to make time to take care of the pet.\")\n",
    "        else:\n",
    "            print(\"You need a bigger home to adopt a pet.\")\n",
    "    else:\n",
    "        print(\"You must be at least 18 years old to adopt a pet.\")\n",
    "\n",
    "# Example Usage:\n",
    "can_adopt_pet(21, 75, True)  # Output: You can adopt a pet!\n",
    "can_adopt_pet(14, 60, True)  # Output: You must be at least 18 years old to adopt a pet.\n",
    "can_adopt_pet(30, 40, True)  # Output: You need a bigger home to adopt a pet.\n",
    "can_adopt_pet(60, 60, False) # Output: You need to make time to take care of the pet."
   ]
  },
  {
   "cell_type": "markdown",
   "metadata": {},
   "source": [
    "### Problem 3:\n",
    "\n",
    "Write Python code to determine whether or not to participate in a marathon."
   ]
  },
  {
   "cell_type": "code",
   "execution_count": null,
   "metadata": {},
   "outputs": [],
   "source": [
    "def can_participate_in_marathon(weather, running_shoes, practiced_days):\n",
    "    if weather == \"clear\":  # Check if the weather is clear\n",
    "        if running_shoes == \"yes\":  # Check if you have running shoes\n",
    "            if practiced_days >= 10:  # Check if you've practiced for at least 10 days\n",
    "                print(\"You are ready for the marathon!\")\n",
    "            else:\n",
    "                print(\"You need to practice more.\")\n",
    "        else:\n",
    "            print(\"You need to buy shoes first.\")\n",
    "    else:\n",
    "        print(\"It's not the right time for the marathon.\")\n",
    "\n",
    "# Example Usage:\n",
    "can_participate_in_marathon(\"clear\", \"yes\", 10)  # Output: You are ready for the marathon!\n",
    "can_participate_in_marathon(\"clear\", \"no\", 12)   # Output: You need to buy shoes first.\n",
    "can_participate_in_marathon(\"clear\", \"yes\", 3)   # Output: You need to practice more.\n",
    "can_participate_in_marathon(\"stormy\", \"yes\", 12)  # Output: It's not the right time for the marathon."
   ]
  },
  {
   "cell_type": "markdown",
   "metadata": {},
   "source": [
    "## Python Quiz Answers:\n",
    "\n",
    "1. C. You are too young to enter.\n",
    "2. B. x is positive but y is not.\n",
    "3. C. It’s too cold."
   ]
  },
  {
   "cell_type": "markdown",
   "metadata": {},
   "source": [
    "## JavaScript Popcorn Hacks\n",
    "\n",
    "### Popcorn Hack 1:\n",
    "\n",
    "Try adding an additional condition for hiking (like location_determined or miles_in_the_hike)."
   ]
  },
  {
   "cell_type": "code",
   "execution_count": null,
   "metadata": {
    "vscode": {
     "languageId": "javascript"
    }
   },
   "outputs": [],
   "source": [
    "\n",
    "let homework = \"not done\";\n",
    "let weather = \"sunny\";\n",
    "let transportation = \"available\";\n",
    "let boots = \"not present\";\n",
    "\n",
    "console.log(\"The weather is \" + weather);\n",
    "console.log(\"Your transportation is \" + transportation);\n",
    "console.log(\"Your boots are \" + boots);\n",
    "\n",
    "if (homework === \"not done\") {\n",
    "    if (weather === \"sunny\") {\n",
    "        if (transportation === \"available\") {\n",
    "            if (boots === \"present\") {\n",
    "                console.log(\"You are ready to go hiking!\");\n",
    "            } else {\n",
    "                console.log(\"You need to find your boots first.\");\n",
    "            }\n",
    "        } else {\n",
    "            console.log(\"You need to arrange transportation.\");\n",
    "        }\n",
    "    } else {\n",
    "        console.log(\"It's not good weather for hiking.\");\n",
    "    }\n",
    "} else {\n",
    "    console.log(\"You still need to finish your homework.\");\n",
    "}"
   ]
  },
  {
   "cell_type": "markdown",
   "metadata": {},
   "source": [
    "## JavaScript Homework Hacks \n",
    "\n",
    "### Problem 1:\n"
   ]
  },
  {
   "cell_type": "code",
   "execution_count": null,
   "metadata": {
    "vscode": {
     "languageId": "javascript"
    }
   },
   "outputs": [],
   "source": [
    " "
   ]
  },
  {
   "cell_type": "markdown",
   "metadata": {},
   "source": [
    "## Problem 2:\n"
   ]
  },
  {
   "cell_type": "code",
   "execution_count": null,
   "metadata": {
    "vscode": {
     "languageId": "javascript"
    }
   },
   "outputs": [],
   "source": []
  }
 ],
 "metadata": {
  "kernelspec": {
   "display_name": "Python 3 (ipykernel)",
   "language": "python",
   "name": "python3"
  },
  "language_info": {
   "codemirror_mode": {
    "name": "ipython",
    "version": 3
   },
   "file_extension": ".py",
   "mimetype": "text/x-python",
   "name": "python",
   "nbconvert_exporter": "python",
   "pygments_lexer": "ipython3",
   "version": "3.12.6"
  }
 },
 "nbformat": 4,
 "nbformat_minor": 4
}
