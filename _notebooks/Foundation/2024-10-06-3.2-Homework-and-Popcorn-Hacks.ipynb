{
 "cells": [
  {
   "attachments": {},
   "cell_type": "raw",
   "metadata": {
    "vscode": {
     "languageId": "raw"
    }
   },
   "source": [
    "---\n",
    "layout: post\n",
    "title: 3.2 Homework and Popcorn Hacks\n",
    "description: GitHub Pages Hacks\n",
    "type: issues \n",
    "categories: [Homework Hacks]\n",
    "comments: true\n",
    "permalink: /3-2-Homework\n",
    "---"
   ]
  },
  {
   "cell_type": "markdown",
   "metadata": {},
   "source": [
    "# 3.2 Lesson Hacks\n",
    "\n",
    "## Popcorn Hacks\n",
    "\n",
    "### Popcorn Hack 1:\n",
    "\n",
    "- Create a set: {1, 2, 3, 4, 5}.\n",
    "- Add 6 to the set.\n",
    "- Remove 2 from the set.\n",
    "- Union with {7, 8, 9}.\n",
    "- Clear the set.\n",
    "\n",
    "Bonus:\n",
    "- Create a set with duplicates: {1, 2, 2, 3, 3, 4}.\n",
    "- Find the length with len()."
   ]
  },
  {
   "cell_type": "code",
   "execution_count": 1,
   "metadata": {},
   "outputs": [
    {
     "name": "stdout",
     "output_type": "stream",
     "text": [
      "Initial set: {1, 2, 3, 4, 5}\n",
      "After adding 6: {1, 2, 3, 4, 5, 6}\n",
      "After removing 2: {1, 3, 4, 5, 6}\n",
      "After union with {7, 8, 9}: {1, 3, 4, 5, 6, 7, 8, 9}\n",
      "After clearing the set: set()\n",
      "Set with duplicates: {1, 2, 3, 4}\n",
      "Length of the set: 4\n"
     ]
    }
   ],
   "source": [
    "# Step 1: Create a set {1, 2, 3, 4, 5}\n",
    "my_set = {1, 2, 3, 4, 5}\n",
    "print(\"Initial set:\", my_set)\n",
    "\n",
    "# Step 2: Add 6 to the set\n",
    "my_set.add(6)\n",
    "print(\"After adding 6:\", my_set)\n",
    "\n",
    "# Step 3: Remove 2 from the set\n",
    "my_set.remove(2)\n",
    "print(\"After removing 2:\", my_set)\n",
    "\n",
    "# Step 4: Union with {7, 8, 9}\n",
    "my_set = my_set.union({7, 8, 9})\n",
    "print(\"After union with {7, 8, 9}:\", my_set)\n",
    "\n",
    "# Step 5: Clear the set\n",
    "my_set.clear()\n",
    "print(\"After clearing the set:\", my_set)\n",
    "\n",
    "# Bonus:\n",
    "# Create a set with duplicates {1, 2, 2, 3, 3, 4}\n",
    "duplicate_set = {1, 2, 2, 3, 3, 4}\n",
    "print(\"Set with duplicates:\", duplicate_set)\n",
    "\n",
    "# Find the length of the set\n",
    "set_length = len(duplicate_set)\n",
    "print(\"Length of the set:\", set_length)\n"
   ]
  },
  {
   "cell_type": "markdown",
   "metadata": {},
   "source": [
    "### Popcorn Hack 2:\n",
    "\n",
    "- Create a string: \"Learning Python is not fun\".\n",
    "- Find the length of the string using len().\n",
    "- Extract \"Python\" from the string using slicing.\n",
    "- Convert the string to all uppercase letters.\n",
    "- Replace \"fun\" with \"good\".\n",
    "\n",
    "Bonus:\n",
    "- Reverse the string using slicing."
   ]
  },
  {
   "cell_type": "code",
   "execution_count": 2,
   "metadata": {},
   "outputs": [
    {
     "name": "stdout",
     "output_type": "stream",
     "text": [
      "Original string: Learning Python is not fun\n",
      "Length of the string: 26\n",
      "Extracted word: Python\n",
      "Uppercase string: LEARNING PYTHON IS NOT FUN\n",
      "String after replacement: Learning Python is not good\n",
      "Reversed string: nuf ton si nohtyP gninraeL\n"
     ]
    }
   ],
   "source": [
    "# Step 1: Create a string \"Learning Python is not fun\"\n",
    "string = \"Learning Python is not fun\"\n",
    "print(\"Original string:\", string)\n",
    "\n",
    "# Step 2: Find the length of the string using len()\n",
    "string_length = len(string)\n",
    "print(\"Length of the string:\", string_length)\n",
    "\n",
    "# Step 3: Extract \"Python\" from the string using slicing\n",
    "# \"Python\" starts at index 9 and ends at index 15 (exclusive)\n",
    "extracted_word = string[9:15]\n",
    "print(\"Extracted word:\", extracted_word)\n",
    "\n",
    "# Step 4: Convert the string to all uppercase letters\n",
    "uppercase_string = string.upper()\n",
    "print(\"Uppercase string:\", uppercase_string)\n",
    "\n",
    "# Step 5: Replace \"fun\" with \"good\"\n",
    "replaced_string = string.replace(\"fun\", \"good\")\n",
    "print(\"String after replacement:\", replaced_string)\n",
    "\n",
    "# Bonus: Reverse the string using slicing\n",
    "reversed_string = string[::-1]\n",
    "print(\"Reversed string:\", reversed_string)\n"
   ]
  },
  {
   "cell_type": "markdown",
   "metadata": {},
   "source": [
    "### Popcorn Hack 3:\n",
    "\n",
    "- Create a list of numbers: [3, 5, 7, 9, 11].\n",
    "- Access the third element of the list.\n",
    "- Change the second element to 6.\n",
    "- Append 13 to the list.\n",
    "- Remove the element 9 from the list.\n",
    "\n",
    "Bonus:\n",
    "- Sort the list in descending order."
   ]
  },
  {
   "cell_type": "code",
   "execution_count": 3,
   "metadata": {},
   "outputs": [
    {
     "name": "stdout",
     "output_type": "stream",
     "text": [
      "Original list: [3, 5, 7, 9, 11]\n",
      "Third element: 7\n",
      "List after changing second element to 6: [3, 6, 7, 9, 11]\n",
      "List after appending 13: [3, 6, 7, 9, 11, 13]\n",
      "List after removing 9: [3, 6, 7, 11, 13]\n",
      "List after sorting in descending order: [13, 11, 7, 6, 3]\n"
     ]
    }
   ],
   "source": [
    "# Step 1: Create a list of numbers\n",
    "nums = [3, 5, 7, 9, 11]\n",
    "print(\"Original list:\", nums)\n",
    "\n",
    "# Step 2: Access the third element of the list\n",
    "third_element = nums[2]  # third-element would be 2nd index\n",
    "print(\"Third element:\", third_element)\n",
    "\n",
    "# Step 3: Change the second element to 6\n",
    "nums[1] = 6\n",
    "print(\"List after changing second element to 6:\", nums)\n",
    "\n",
    "# Step 4: Append 13 to the list\n",
    "nums.append(13)\n",
    "print(\"List after appending 13:\", nums)\n",
    "\n",
    "# Step 5: Remove the element 9 from the list\n",
    "nums.remove(9)\n",
    "print(\"List after removing 9:\", nums)\n",
    "\n",
    "# Bonus: Sort the list in descending order\n",
    "nums.sort(reverse=True)\n",
    "print(\"List after sorting in descending order:\", nums)\n"
   ]
  },
  {
   "cell_type": "markdown",
   "metadata": {},
   "source": [
    "### Popcorn Hack 4:\n",
    "\n",
    "- Create a dictionary called personal_info, and have it include “name”, “email”, “phone number”. They can be anything.\n",
    "- Print out the entire Dictionary you made.\n",
    "- Print out the name that you put in your dictionary. First print out “My Name is:”, then print out the name.\n",
    "- Print the Overall Length of the Dictionary using len()\n",
    "- Print the Overall Type of the Dictionary using type()\n",
    "\n",
    "Bonus:\n",
    "- Add another dictionary with the same thing “name” “email” “phone number” and print their different values."
   ]
  },
  {
   "cell_type": "code",
   "execution_count": 4,
   "metadata": {},
   "outputs": [
    {
     "name": "stdout",
     "output_type": "stream",
     "text": [
      "Personal Info Dictionary: {'name': 'John Smith', 'email': 'johnsmith@gmail.com', 'phone number': '858-123-4567'}\n",
      "My Name is: John Smith\n",
      "Length of the dictionary: 3\n",
      "Type of the dictionary: <class 'dict'>\n",
      "\n",
      "Second Personal Info Dictionary: {'name': 'Joe Burrow', 'email': 'joeburrow@gmail.com', 'phone number': '234-654-3655'}\n",
      "\n",
      "Differences in Values:\n",
      "Name 1: John Smith vs Name 2: Joe Burrow\n",
      "Email 1: johnsmith@gmail.com vs Email 2: joeburrow@gmail.com\n",
      "Phone Number 1: 858-123-4567 vs Phone Number 2: 234-654-3655\n"
     ]
    }
   ],
   "source": [
    "# Step 1: Create a dictionary called personal_info\n",
    "personal_info = {\n",
    "    \"name\": \"John Smith\",\n",
    "    \"email\": \"johnsmith@gmail.com\",\n",
    "    \"phone number\": \"858-123-4567\"\n",
    "}\n",
    "\n",
    "# Step 2: Print out the entire dictionary\n",
    "print(\"Personal Info Dictionary:\", personal_info)\n",
    "\n",
    "# Step 3: Print out the name with a message\n",
    "print(\"My Name is:\", personal_info[\"name\"])\n",
    "\n",
    "# Step 4: Print the overall length of the dictionary using len()\n",
    "print(\"Length of the dictionary:\", len(personal_info))\n",
    "\n",
    "# Step 5: Print the overall type of the dictionary using type()\n",
    "print(\"Type of the dictionary:\", type(personal_info))\n",
    "\n",
    "# Bonus: Create another dictionary with the same keys and different values\n",
    "personal_info_2 = {\n",
    "    \"name\": \"Joe Burrow\",\n",
    "    \"email\": \"joeburrow@gmail.com\",\n",
    "    \"phone number\": \"234-654-3655\"\n",
    "}\n",
    "\n",
    "# Print out the second dictionary and its values\n",
    "print(\"\\nSecond Personal Info Dictionary:\", personal_info_2)\n",
    "\n",
    "# Print the different values for the \"name\", \"email\", and \"phone number\"\n",
    "print(\"\\nDifferences in Values:\")\n",
    "print(\"Name 1:\", personal_info[\"name\"], \"vs Name 2:\", personal_info_2[\"name\"])\n",
    "print(\"Email 1:\", personal_info[\"email\"], \"vs Email 2:\", personal_info_2[\"email\"])\n",
    "print(\"Phone Number 1:\", personal_info[\"phone number\"], \"vs Phone Number 2:\", personal_info_2[\"phone number\"])\n"
   ]
  },
  {
   "cell_type": "markdown",
   "metadata": {},
   "source": [
    "## Python Homework Hacks\n",
    "\n",
    "### Part 1:\n",
    "\n",
    "Create a dictionary called personal_info that includes the following keys. Assign values to the keys: full_name, years, location, and favorite_food. The full_name should be a string, years an integer, location a string, and favorite_food a string."
   ]
  },
  {
   "cell_type": "code",
   "execution_count": null,
   "metadata": {},
   "outputs": [],
   "source": [
    "# Person info dictionary\n",
    "personal_info = { \n",
    "    \"full_name\": \"Noah Harris\", \n",
    "    \"years\": 16, \n",
    "    \"location\": \"San Diego\", \n",
    "    \"favorite_food\": \"Tacos\" \n",
    "    } "
   ]
  },
  {
   "cell_type": "markdown",
   "metadata": {},
   "source": [
    "### Part 2:\n",
    "\n",
    "Create a list called activities that includes three of your favorite activities as strings. Print the activities list."
   ]
  },
  {
   "cell_type": "code",
   "execution_count": 5,
   "metadata": {},
   "outputs": [
    {
     "name": "stdout",
     "output_type": "stream",
     "text": [
      "['Football', 'Watching TV', 'Weightlifting']\n"
     ]
    }
   ],
   "source": [
    "favorite_activities = [\"Football\", \"Watching TV\", \"Weightlifting\"] \n",
    "print(favorite_activities) "
   ]
  },
  {
   "cell_type": "markdown",
   "metadata": {},
   "source": [
    "### Part 3:\n",
    "\n",
    "Add the activities list to the personal_info dictionary under the key activities. Print the updated personal_info dictionary."
   ]
  },
  {
   "cell_type": "code",
   "execution_count": 6,
   "metadata": {},
   "outputs": [
    {
     "name": "stdout",
     "output_type": "stream",
     "text": [
      "{'name': 'John Smith', 'email': 'johnsmith@gmail.com', 'phone number': '858-123-4567', 'activities': ['Football', 'Watching TV', 'Weightlifting']}\n"
     ]
    }
   ],
   "source": [
    "personal_info[\"activities\"] = favorite_activities \n",
    "print(personal_info) "
   ]
  },
  {
   "cell_type": "markdown",
   "metadata": {},
   "source": [
    "### Part 4:\n",
    "\n",
    "Choose one of your activities and create a boolean variable called activity_available. Set activity_available to True if your activity is available today, otherwise set it to False. Print a message using activity_available like: “Is «your activity» available today? «True/False»”"
   ]
  },
  {
   "cell_type": "code",
   "execution_count": 7,
   "metadata": {},
   "outputs": [
    {
     "name": "stdout",
     "output_type": "stream",
     "text": [
      "Is football available today? False\n"
     ]
    }
   ],
   "source": [
    "activity = \"football\"\n",
    "activity_available = False \n",
    "print(f\"Is {activity} available today? {activity_available}\") "
   ]
  },
  {
   "cell_type": "markdown",
   "metadata": {},
   "source": [
    "### Part 5:\n",
    "\n",
    "Create a variable called total_activities and set it to the number of activities in your activities list. Print a message like: “I have «total_activities» activities.”"
   ]
  },
  {
   "cell_type": "code",
   "execution_count": 8,
   "metadata": {},
   "outputs": [
    {
     "name": "stdout",
     "output_type": "stream",
     "text": [
      "I have 3 activities.\n"
     ]
    }
   ],
   "source": [
    "total_activities = len(favorite_activities) \n",
    "print(f\"I have {total_activities} activities.\") "
   ]
  },
  {
   "cell_type": "markdown",
   "metadata": {},
   "source": [
    "### Part 6:\n",
    "\n",
    "Create a tuple called favorite_activities that contains your two most favorite activities. Print the favorite_activities tuple."
   ]
  },
  {
   "cell_type": "code",
   "execution_count": 10,
   "metadata": {},
   "outputs": [
    {
     "name": "stdout",
     "output_type": "stream",
     "text": [
      "('Football', 'Weightlifting')\n"
     ]
    }
   ],
   "source": [
    "most_favorite_activities = (\"Football\", \"Weightlifting\") \n",
    "print(most_favorite_activities)"
   ]
  },
  {
   "cell_type": "markdown",
   "metadata": {},
   "source": [
    "### Part 7:\n",
    "\n",
    "Create a set called skills and add three unique skills you have. Print the set of skills."
   ]
  },
  {
   "cell_type": "code",
   "execution_count": 11,
   "metadata": {},
   "outputs": [
    {
     "name": "stdout",
     "output_type": "stream",
     "text": [
      "{'Math', 'Problem-Solving', 'Running'}\n"
     ]
    }
   ],
   "source": [
    "skills = {\"Math\", \"Running\", \"Problem-Solving\"} \n",
    "print(skills)"
   ]
  },
  {
   "cell_type": "markdown",
   "metadata": {},
   "source": [
    "### Part 8:\n",
    "\n",
    "You are thinking about learning a new skill. Create a variable called new_skill and set it to None (you haven’t decided yet). Print the value of new_skill."
   ]
  },
  {
   "cell_type": "code",
   "execution_count": 12,
   "metadata": {},
   "outputs": [
    {
     "name": "stdout",
     "output_type": "stream",
     "text": [
      "None\n"
     ]
    }
   ],
   "source": [
    "# Create a variable called new_skill and set it to none\n",
    "new_skill = None \n",
    "\n",
    "# Print value\n",
    "print(new_skill)"
   ]
  },
  {
   "cell_type": "markdown",
   "metadata": {},
   "source": [
    "### Problem 9:\n",
    "\n",
    "Assume each activity costs $5 to pursue and each skill costs $10 to develop. Create a variable called total_cost as a float, and calculate how much it would cost to develop all your activities and skills. Print the total cost."
   ]
  },
  {
   "cell_type": "code",
   "execution_count": 13,
   "metadata": {},
   "outputs": [
    {
     "name": "stdout",
     "output_type": "stream",
     "text": [
      "Total cost: $40\n"
     ]
    }
   ],
   "source": [
    "# Initialize a variable called total_cost and calculate how much it would cost to develop all activities and skills\n",
    "total_cost = (len(favorite_activities) * 5) + (len(skills) * 10) \n",
    "\n",
    "# Print total cost\n",
    "print(f\"Total cost: ${total_cost}\")"
   ]
  },
  {
   "cell_type": "markdown",
   "metadata": {},
   "source": [
    "## JavaScript Popcorn Hacks\n",
    "\n",
    "### Popcorn Hack 1:\n",
    "\n",
    "- Create a set called [Set1] of 3 numbers (can be any number)\n",
    "- Create a set called [Set2] of different 3 numbers (can be any number) -log both sets separately\n",
    "- Add a number and Remove the 1st number from set1\n",
    "- log the union of both Set1 and Set2."
   ]
  },
  {
   "cell_type": "code",
   "execution_count": null,
   "metadata": {
    "vscode": {
     "languageId": "javascript"
    }
   },
   "outputs": [],
   "source": [
    "// Create Set1 and Set2\n",
    "let Set1 = new Set(10, 12, 93]);  // Set1 with 3 numbers\n",
    "let Set2 = new Set([1, 64, 23]);  // Set2 with 3 different numbers\n",
    "\n",
    "// Log both sets separately\n",
    "console.log(\"Set1:\", Set1);\n",
    "console.log(\"Set2:\", Set2);\n",
    "\n",
    "// Add a number to Set1 and remove the first number from Set1\n",
    "Set1.add(21);  // Adding 21 to Set1\n",
    "Set1.delete(12);  // Removing the number 12 from Set1\n",
    "\n",
    "// Log the union of Set1 and Set2\n",
    "let unionSet = new Set([...Set1, ...Set2]);  // Union of both sets\n",
    "console.log(\"Union of Set1 and Set2:\", unionSet);"
   ]
  },
  {
   "cell_type": "markdown",
   "metadata": {},
   "source": [
    "### Popcorn Hack 2:\n",
    "\n",
    "- Create a Dictionary called “application” that has someones “name”, “age”, “experiences”, and “money”.\n",
    "- log the dictionary to make sure it works\n",
    "- log only the dictionaries money"
   ]
  },
  {
   "cell_type": "code",
   "execution_count": null,
   "metadata": {
    "vscode": {
     "languageId": "javascript"
    }
   },
   "outputs": [],
   "source": [
    "// Create the 'application' dictionary\n",
    "let application = {\n",
    "    name: \"Josh Dobbs\",\n",
    "    age: 28,\n",
    "    experiences: [\"NFL Quarterback\", \"Aerospace Engineer\", \"Public Speaker\"],\n",
    "    money: 5000000\n",
    "};\n",
    "\n",
    "// Log the entire dictionary\n",
    "console.log(\"Application Dictionary:\", application);\n",
    "\n",
    "// Log only the 'money' property of the dictionary\n",
    "console.log(\"Money:\", application.money);\n"
   ]
  },
  {
   "cell_type": "markdown",
   "metadata": {},
   "source": [
    "## JavaScript Homework Hack\n",
    "\n",
    "- Make an application for an applicant, ask them questions about their name, age, and experiences.\n",
    "- Store these inputs into a Dictionary, sorting each of their responses into “name”, “age”, and “experiences”\n",
    "- Log the users input"
   ]
  },
  {
   "cell_type": "code",
   "execution_count": null,
   "metadata": {
    "vscode": {
     "languageId": "javascript"
    }
   },
   "outputs": [],
   "source": [
    "// Function to gather user input and store it in a dictionary\n",
    "function gatherInfo() {\n",
    "    // Ask the user for their name, age, and experiences\n",
    "    let name = prompt(\"What is your name?\");\n",
    "    let age = prompt(\"What is your age?\");\n",
    "    let experiences = prompt(\"Please list your experiences (seperate with a comma):\");\n",
    "\n",
    "    // Create a dictionary to store the user's responses\n",
    "    let applicant = {\n",
    "        name: name,\n",
    "        age: age,\n",
    "        experiences: experiences.split(\",\").map(exp => exp.trim())  // clean up and split experiences\n",
    "    };\n",
    "\n",
    "    // Log the dictionary (application details)\n",
    "    console.log(\"Applicant Information:\", applicant);\n",
    "}\n",
    "\n",
    "// Call the function to start the process\n",
    "gatherInfo();\n"
   ]
  }
 ],
 "metadata": {
  "kernelspec": {
   "display_name": "Python 3 (ipykernel)",
   "language": "python",
   "name": "python3"
  },
  "language_info": {
   "codemirror_mode": {
    "name": "ipython",
    "version": 3
   },
   "file_extension": ".py",
   "mimetype": "text/x-python",
   "name": "python",
   "nbconvert_exporter": "python",
   "pygments_lexer": "ipython3",
   "version": "3.12.7"
  }
 },
 "nbformat": 4,
 "nbformat_minor": 4
}
