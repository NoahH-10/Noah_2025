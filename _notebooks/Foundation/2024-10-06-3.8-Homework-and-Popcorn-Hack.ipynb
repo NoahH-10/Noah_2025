{
 "cells": [
  {
   "attachments": {},
   "cell_type": "raw",
   "metadata": {
    "vscode": {
     "languageId": "raw"
    }
   },
   "source": [
    "---\n",
    "layout: post\n",
    "title: 3.8 Homework and Popcorn Hacks\n",
    "description: GitHub Pages Hacks\n",
    "type: issues \n",
    "categories: [Homework Hacks]\n",
    "comments: true\n",
    "permalink: /3-8-Homework\n",
    "---"
   ]
  },
  {
   "cell_type": "markdown",
   "metadata": {},
   "source": [
    "# Python Popcorn Hacks\n",
    "\n",
    "## Popcorn Hack 1:\n",
    "\n",
    "I want you to create a while loop that will print out “hello” to the terminal 5 times"
   ]
  },
  {
   "cell_type": "code",
   "execution_count": 2,
   "metadata": {},
   "outputs": [
    {
     "name": "stdout",
     "output_type": "stream",
     "text": [
      "Hello\n",
      "Hello\n",
      "Hello\n",
      "Hello\n",
      "Hello\n"
     ]
    }
   ],
   "source": [
    "counter = 0\n",
    "while counter < 5:\n",
    "    print(\"Hello\")\n",
    "    counter += 1"
   ]
  },
  {
   "cell_type": "markdown",
   "metadata": {},
   "source": [
    "## Popcorn Hack 2: \n",
    "\n",
    "- Create a piece of python code that prints out your name one time\n",
    "- then after printing your first name one time, print out your middle name 2 times\n",
    "- and finally print out your last name three times\n",
    "- this entire thing should be repeated 4 times"
   ]
  },
  {
   "cell_type": "code",
   "execution_count": 1,
   "metadata": {},
   "outputs": [
    {
     "name": "stdout",
     "output_type": "stream",
     "text": [
      "Noah\n",
      "JacobJacob\n",
      "HarrisHarrisHarris\n",
      "Noah\n",
      "JacobJacob\n",
      "HarrisHarrisHarris\n",
      "Noah\n",
      "JacobJacob\n",
      "HarrisHarrisHarris\n",
      "Noah\n",
      "JacobJacob\n",
      "HarrisHarrisHarris\n"
     ]
    }
   ],
   "source": [
    "\n",
    "# Define the names\n",
    "first_name = \"Noah\"\n",
    "middle_name = \"Jacob\"\n",
    "last_name = \"Harris\"\n",
    "\n",
    "# Loop to repeat the pattern 4 times\n",
    "for _ in range(4):\n",
    "    print(first_name)          # Print first name once\n",
    "    print(middle_name * 2)     # Print middle name twice\n",
    "    print(last_name * 3)       # Print last name three times\n"
   ]
  },
  {
   "cell_type": "markdown",
   "metadata": {},
   "source": [
    "## Popcorn Hack 3:\n",
    "\n",
    "I want you to create a for loop that iterates and prints out to the terminal the letters of your name"
   ]
  },
  {
   "cell_type": "code",
   "execution_count": 3,
   "metadata": {},
   "outputs": [
    {
     "name": "stdout",
     "output_type": "stream",
     "text": [
      "N\n",
      "o\n",
      "a\n",
      "h\n"
     ]
    }
   ],
   "source": [
    "name = \"Noah\"\n",
    "\n",
    "for letter in name:\n",
    "    print(letter)"
   ]
  },
  {
   "cell_type": "markdown",
   "metadata": {},
   "source": [
    "# JavaScript Popcorn Hacks\n",
    "\n",
    "## Popcorn Hack 1:\n",
    "\n",
    "- Create a dictionary and create a for loop that runs through each key and value of the dictionary \n",
    "- For each iteration, print the key and value as well as a message of your choice"
   ]
  },
  {
   "cell_type": "code",
   "execution_count": null,
   "metadata": {
    "vscode": {
     "languageId": "javascript"
    }
   },
   "outputs": [],
   "source": [
    "const fruits = {\n",
    "    'apples': 7,\n",
    "    'bananas': 6,\n",
    "    'oranges': 7,\n",
    "    'kiwis': 5,\n",
    "    'peaches': 10,\n",
    "    'cantaloupes': 2\n",
    "};\n",
    "\n",
    "console.log(Object.entries(fruits));\n",
    "\n",
    "for (const [fruit, quantity] of Object.entries(fruits)) {\n",
    "    console.log(`I give ${fruit} a ${quantity} out of ten`);\n",
    "}"
   ]
  },
  {
   "cell_type": "markdown",
   "metadata": {},
   "source": [
    "# Homework Hacks \n",
    "\n",
    "## Problem 1:\n",
    "\n",
    "- Create a python script that asks a user for a password in the terminal, then if the password is correct, it prints out that the password is correct.\n",
    "- If the password is incorrect it asks for the password again."
   ]
  },
  {
   "cell_type": "code",
   "execution_count": 7,
   "metadata": {},
   "outputs": [
    {
     "name": "stdout",
     "output_type": "stream",
     "text": [
      "Incorrect password. Try again.\n",
      "Incorrect password. Try again.\n",
      "Incorrect password. Try again.\n",
      "Incorrect password. Try again.\n",
      "Password is correct!\n"
     ]
    }
   ],
   "source": [
    " # Define the correct password\n",
    "correct_password = \"password123\"\n",
    "\n",
    "while True:\n",
    "  \n",
    "    entered_password = input(\"Enter your password: \")\n",
    "    \n",
    "    \n",
    "    if entered_password == correct_password:\n",
    "        print(\"Password is correct!\")\n",
    "        break  \n",
    "    else:\n",
    "        print(\"Incorrect password. Try again.\")\n"
   ]
  },
  {
   "cell_type": "markdown",
   "metadata": {},
   "source": [
    "## Problem 2:\n",
    "\n",
    "- Create python script that asks for a user’s name\n",
    "- Then iterate through the name and print it out letter by letter through the terminal"
   ]
  },
  {
   "cell_type": "code",
   "execution_count": 8,
   "metadata": {},
   "outputs": [
    {
     "name": "stdout",
     "output_type": "stream",
     "text": [
      "N\n",
      "o\n",
      "a\n",
      "h\n"
     ]
    }
   ],
   "source": [
    "name = input(\"Enter your name: \")\n",
    "\n",
    "for letter in name:\n",
    "    print(letter)"
   ]
  },
  {
   "cell_type": "markdown",
   "metadata": {},
   "source": [
    "## Problem 3:\n",
    "\n",
    "- Create a python script that has a list of at least 7 different fruits\n",
    "- then create a for loop that iterates through that list and prints out each fruit seperate to the terminal"
   ]
  },
  {
   "cell_type": "code",
   "execution_count": 9,
   "metadata": {},
   "outputs": [
    {
     "name": "stdout",
     "output_type": "stream",
     "text": [
      "apple\n",
      "pear\n",
      "peach\n",
      "grape\n",
      "mango\n",
      "strawberry\n",
      "grape\n"
     ]
    }
   ],
   "source": [
    "fruits = [\"apple\", \"pear\", \"peach\", \"grape\", \"mango\", \"strawberry\", \"grape\"]\n",
    "\n",
    "for fruit in fruits:\n",
    "    print(fruit)\n"
   ]
  }
 ],
 "metadata": {
  "kernelspec": {
   "display_name": "Python 3 (ipykernel)",
   "language": "python",
   "name": "python3"
  },
  "language_info": {
   "codemirror_mode": {
    "name": "ipython",
    "version": 3
   },
   "file_extension": ".py",
   "mimetype": "text/x-python",
   "name": "python",
   "nbconvert_exporter": "python",
   "pygments_lexer": "ipython3",
   "version": "3.12.7"
  }
 },
 "nbformat": 4,
 "nbformat_minor": 4
}
