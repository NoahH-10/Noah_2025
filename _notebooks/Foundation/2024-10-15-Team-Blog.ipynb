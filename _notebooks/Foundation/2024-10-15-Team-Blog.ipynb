{
 "cells": [
  {
   "cell_type": "raw",
   "metadata": {
    "vscode": {
     "languageId": "raw"
    }
   },
   "source": [
    "---\n",
    "layout: post\n",
    "title: Team Blog\n",
    "description: Sprint 2 - CSP Objectives\n",
    "type: issues \n",
    "comments: true\n",
    "permalink: /team-blog\n",
    "---"
   ]
  },
  {
   "cell_type": "markdown",
   "metadata": {},
   "source": [
    "Summary Checklist:\n",
    "Home page: History of your work/projects (class and personal).\n",
    "JavaScript focus: Understanding of BI 3.1-3.10 (JavaScript and HTML manipulation).\n",
    "For-loops: Include the link and an explanation of its relevance.\n",
    "Hacks: Share coding challenges and solutions."
   ]
  },
  {
   "cell_type": "markdown",
   "metadata": {},
   "source": [
    "THIS IS THE HOME PAGE:\n",
    "\n",
    "STEPS:\n",
    "1. create a \"blog\" with jupyter notebooks (done)\n",
    "2. add headings listing what will be under them (previous accomplishments, our big idea 3 lesson and hacks, mr morts \"for\" loop lesson, all completed hacks for 3.1-3.8,3.10A)\n",
    "3. put buttons linking:\n",
    "- mr morts \"for\" loop lesson\n",
    "- jupyter notebook with completed hacks for that \"for\" loop lesson\n",
    "- our lesson links (3.10B)\n",
    "- each jupyter notebook with hacks from 3.1-3.8\n",
    "- games (calculator, cookie-clicker, snake, tic-tac-toe)\n",
    "- put text with challenges faced and how i overcame them + relevance of \"for\" loops lesson"
   ]
  },
  {
   "cell_type": "markdown",
   "metadata": {},
   "source": [
    "# Blog Homepage\n",
    "\n",
    "## Previous Accomplishments\n",
    "\n",
    "GAME BUTTONS + WHATEVER ELSE\n",
    "\n",
    "## Mr. Mortensen's Self-study Lesson\n",
    "\n",
    "MR MORTS \"FOR\" LOOP LESSON\n",
    "\n",
    "## My Team's 3.10B Lesson and Hacks\n",
    "\n",
    "4 BUTTONS; ONE FOR EACH NOTEBOOK THERE\n",
    "\n",
    "## All Completed Hacks for Big Idea 3.1-3.8, 3.10A, and Mr. Mortensen's Self-Study Lesson\n",
    "\n",
    "WHAT SAID ABOVE BUTTONS"
   ]
  }
 ],
 "metadata": {
  "kernelspec": {
   "display_name": "Emoji",
   "language": "python",
   "name": "python3"
  },
  "language_info": {
   "codemirror_mode": {
    "name": "ipython",
    "version": 3
   },
   "file_extension": ".py",
   "mimetype": "text/x-python",
   "name": "python",
   "nbconvert_exporter": "python",
   "pygments_lexer": "ipython3",
   "version": "3.12.5"
  }
 },
 "nbformat": 4,
 "nbformat_minor": 2
}
