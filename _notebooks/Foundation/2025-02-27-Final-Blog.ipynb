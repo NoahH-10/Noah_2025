{
 "cells": [
  {
   "cell_type": "raw",
   "metadata": {
    "vscode": {
     "languageId": "raw"
    }
   },
   "source": [
    "---\n",
    "layout: post\n",
    "title: Final Blog\n",
    "type: issues \n",
    "comments: true\n",
    "permalink: /final-blog\n",
    "---"
   ]
  },
  {
   "cell_type": "markdown",
   "metadata": {},
   "source": [
    "## Night at the Museum Reviews\n",
    "\n",
    "[Feedback Issue](https://github.com/Ahaanv19/LitConnect/issues/10)\n",
    "\n",
    "We receieved a lot of constructive feedback, mainly from my dad and Weston dad, which I touch on in my future plans for this project.\n",
    "\n",
    "Before and after my presentation of our website, I went to and review other people's sites. For example, I went to Weston and Justin's website about teaching binary that I found really interesting. I don't know binary, and niether do a lot of people, so their website would be helpful. It also doesn't just have information or teach people binary, but has games that facilitate learning and competitiveness and are customizable. Not only was the app interesting, but the group presented it really well, especially Justin.\n",
    "\n",
    "I also reviewed the website named Pawnsy, which was a chess platform where users could play against an AI. You could customize the difficulty level of the AI as well as save your game and analyze and review it. I also review the website Cantella (Xavier T. and Zafeer A.'s group) which was a study app for AP classes. You could click on different classes, like AP World or AP Chemistry, and find studying material as well as create your own flash cards that you can use."
   ]
  },
  {
   "cell_type": "markdown",
   "metadata": {},
   "source": [
    "## My Future in Computer Science\n",
    "\n",
    "I took this class to learn more about computer science, as it seemed like a logical elective given I needed to expand my horizons for college. From the very first lesson, I realized how much more there is to this field than just coding. We explored algorithms, problem-solving techniques, the fundamental principles that drive technology today, and more.\n",
    "\n",
    "This class has opened doors for me that I never imagined possible. I’ve gained skills in critical thinking and collaboration through group projects, and I’ve learned how to approach complex problems with a systematic mindset. The knowledge I've acquired will undoubtedly be valuable in college, where I will delve deeper into computer science and related disciplines.\n",
    "\n",
    "Furthermore, I have gained knowledge that prepares me for college by learning and implementing Agile and Scrum methodology. When college computer science students talked about their college experience, they told us how what they learned in AP CSP greatly prepared them for college assignments, and now I have gained that same knowledge."
   ]
  },
  {
   "cell_type": "markdown",
   "metadata": {},
   "source": [
    "## Individual Strengths and Weaknesses\n",
    "\n",
    "### Strengths\n",
    "- problem solving\n",
    "- communicating\n",
    "- natural-born leader\n",
    "- works well with others\n",
    "- Quick learner\n",
    "\n",
    "### Weaknesses\n",
    "- Coding\n",
    "- Looking at the bigger picture for my features\n",
    "- Idea generation"
   ]
  },
  {
   "cell_type": "markdown",
   "metadata": {},
   "source": [
    "## Next Steps for Project (Including Night at the Museum Feedback)\n",
    "\n",
    "After a lot of constructive feedback at Night at the Musuem, this project is far from over. Some of the next steps include:\n",
    "\n",
    "- Improving styling and coloring of website to look more modern than like a child colored it\n",
    "- Consolidate the features, there are way too many that do not really make sense\n",
    "    - For example, we have book recommenations, genre recommendations, reading tracker, local library suggestions, and an awards database. These have a lot in common and shouldn't be individual features.\n",
    "- On my book quotes feature, I should implement a likes system for the quotes and make it so users can save the quotes to a database in their profile\n",
    "- On my book adaptation feature, I should make the layout more clear, like when you search a book, it is a more definitive response instead of \"book\" not found. Maybe the search bar is on the left and on the right pulls up an image of the movie's cover and could lead to more details. The suggestion box should overshadow the rest of the website and make it look like its two seperate features of equal importance, the checker is the main feature, and suggestion box should be smaller\n",
    "- In the book tracker feature, instead of inputting a percent read, which requires users to calculate it themselves, make it so the feature calculates the percent for you\n",
    "- There are many constraints on the Login/Signup system that would be unbeknownst to users, we should add the requirements (like the ID is only numbers, username requires more than one letter, etc.)"
   ]
  },
  {
   "cell_type": "markdown",
   "metadata": {},
   "source": [
    "## Honest Self-Grade Assessment and Summary of What I Will Discuss in Live Review\n",
    "\n",
    "### Live Review\n",
    "[burndown issue](https://github.com/users/NoahH-10/projects/1/views/1?pane=issue&itemId=99262637&issue=NoahH-10%7CNoah_2025%7C40)\n",
    "\n",
    "5 points I will talk about:\n",
    "\n",
    "1. My Book Adaptation Checker Static API and Suggestion Box Dynamic Table: I will explain its functionality and demonstrate all CRUD operations\n",
    "\n",
    "2. My Book Quotes Database: I will explain its functionality and demonstrate all CRUD operations\n",
    "\n",
    "3. Blogs: I will present Full Stack Blog and this Final Blog to demonstrate my understanding of the fullstack development proccess and what I have done in this class.\n",
    "\n",
    "4. My role in my group as Assistant Scrum Master and Assistant Deployment Admin (Explain my role in leading communication between team members, creating the Kanban board and making sure people regularly updated it, leading conversations regarding problems and tasks and progress. Taught them how to Postman, kinda. (ADA) Explain my role in deployment process, making deployment blog with Ahaan and Jacob, and explaining how things work with other team members (like cockpit and the .tables and other things). Could also add when people had questions (especially Jacob) I taught him about the processes and functions behind his question and if I did not know something, I would then obtain the information to answer it.)\n",
    "\n",
    "5. Either 1. Problem solver role (fixing login (localhost) and page errors (before deployment) and fixing errors in restore and backup processes (like the custom generate_data() command) and initially worked on homepage, so I did initial styling (came up with bookshelf and monitor idea) or 2. (another database) Literary Awards Database: Demonstrate all CRUD operations for this database, reloading the page to prove data is being saved onto the table, showing the table on cockpit.https://ahaanv19.github.io/LitConnect/literaryawards\n",
    "\n",
    "### Honest Self-Grade Assessment\n",
    "A (95%): The amount of sheer effort and work that I put in over the course of these 12 weeks deserves a very high score. Here is a list of a majority of the things I learned and did this trimester:\n",
    "- I connected my divided group when we were struggling to collaborate and communicate\n",
    "- Helped struggling teammates, like Jacob, on any problems they couldn't fix\n",
    "- I learned how to navigate the backend\n",
    "- I learned how to write static APIs\n",
    "- I learned how to fetch static APIs from frontend\n",
    "- I learned how to style the frontend (HTML Styling)\n",
    "- I learned how to input breakpoints to show code functionality\n",
    "- I learned how to use Postman to test static data\n",
    "- I learned how to write dynamic APIs\n",
    "- I learned how to create a table in the backend\n",
    "- I learned how to fetch said table in the frontend\n",
    "- I learned how to add, delete, and update predefined values in said table\n",
    "- I learned how to add error-handling to my code\n",
    "- I learned how to fix errors in code using inspect\n",
    "- I learned how to initialize, backup, and restore the database\n",
    "- I learned how to use Postman to simulate user input on backend\n",
    "- I learned how to understand error messages\n",
    "- I learned how to deploy a website and how it works\n",
    "- I learned how nginx and config.js communicate\n",
    "- I learned how to use cockpit (AWS) terminal\n",
    "- I fixed a broken login system (on local host)\n",
    "- I fixed CORS errors that caused massive problems in our website\n",
    "- I learned how to write blogs that explain my learning and understanding\n",
    "\n",
    "I have achieved a superlative understanding of concepts that I can teach others (processes) how to implement certain concepts and find errors in their processes (and sometimes code)."
   ]
  }
 ],
 "metadata": {
  "kernelspec": {
   "display_name": "Emoji",
   "language": "python",
   "name": "python3"
  },
  "language_info": {
   "codemirror_mode": {
    "name": "ipython",
    "version": 3
   },
   "file_extension": ".py",
   "mimetype": "text/x-python",
   "name": "python",
   "nbconvert_exporter": "python",
   "pygments_lexer": "ipython3",
   "version": "3.12.5"
  }
 },
 "nbformat": 4,
 "nbformat_minor": 2
}
