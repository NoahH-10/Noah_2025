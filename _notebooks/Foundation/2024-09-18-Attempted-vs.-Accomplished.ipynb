{
 "cells": [
  {
   "cell_type": "raw",
   "metadata": {
    "vscode": {
     "languageId": "raw"
    }
   },
   "source": [
    "---\n",
    "layout: post\n",
    "title: Attempted vs. Accomplished\n",
    "description: GitHub Pages Hacks\n",
    "type: issues \n",
    "comments: true\n",
    "permalink: /a-vs-a\n",
    "---"
   ]
  },
  {
   "cell_type": "markdown",
   "metadata": {},
   "source": []
  },
  {
   "cell_type": "markdown",
   "metadata": {},
   "source": [
    "## Attempted\n",
    "\n",
    "- I tried to use Kasm, but after realzing that it was not reliable and would continue to hinder my progress, so I switched to a different computer\n"
   ]
  },
  {
   "cell_type": "markdown",
   "metadata": {},
   "source": [
    "## Accomplished\n",
    "\n",
    "- After I gave up on Kasm, I switched to a MacBook Pro and succeeded in not only downloading all of the necessary developer tools but also catching up on my project after starting over \n",
    "- I transported two videos from my phone into my website code by uploading them into my google drive and getting the link\n",
    "- I figured out how to transport images from my phone into the images folder in VSCode and then into my code onto my website\n",
    "- I added a gif of Mario that ran across the screen and then reset at the left side of the screen\n",
    "- I added a calculator, a cookie clicker game, a snake game, and a tic-tac-toe game\n",
    "- I added my notebooks about Futsal and my attempts and accomplishments\n"
   ]
  }
 ],
 "metadata": {
  "kernelspec": {
   "display_name": "Emoji",
   "language": "python",
   "name": "python3"
  },
  "language_info": {
   "codemirror_mode": {
    "name": "ipython",
    "version": 3
   },
   "file_extension": ".py",
   "mimetype": "text/x-python",
   "name": "python",
   "nbconvert_exporter": "python",
   "pygments_lexer": "ipython3",
   "version": "3.12.5"
  }
 },
 "nbformat": 4,
 "nbformat_minor": 2
}
