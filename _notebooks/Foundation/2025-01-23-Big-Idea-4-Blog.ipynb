{
 "cells": [
  {
   "cell_type": "raw",
   "metadata": {
    "vscode": {
     "languageId": "raw"
    }
   },
   "source": [
    "---\n",
    "layout: post\n",
    "title: Big Idea 4 Blog\n",
    "description: A blog where I share what I have learned in Big Idea 4\n",
    "type: issues \n",
    "categories: [Personal]\n",
    "comments: true\n",
    "permalink: /Big-Idea-4-Blog/\n",
    "---"
   ]
  },
  {
   "cell_type": "markdown",
   "metadata": {},
   "source": [
    "## Big Idea 4\n",
    "\n",
    "Big Idea 4 in AP Computer Science Principles focuses on the impact of the Internet on society, including how it operates, the concept of fault tolerance, and the principles of parallel and distributed computing.\n",
    "\n",
    "### 4.1 The Internet\n",
    "\n",
    "The Internet serves as a vast network connecting millions of devices globally, facilitating communication and information sharing. One of the fundamental concepts of the Internet is how data is transmitted using APIs (Application Programming Interfaces).\n",
    "\n",
    "For example, in our project, we have an API to fetch movie data from a JSON file. Here’s a code snippet that demonstrates how we handle a request to get all movies:\n",
    "\n",
    "```python\n",
    "@bookadaptation_api.route('/movies', methods=['GET'])\n",
    "def get_movies():\n",
    "    movies = load_movies()\n",
    "    return jsonify(movies)\n",
    "```\n",
    "\n",
    "This function allows users to retrieve all movies, showcasing how the Internet enables access to shared resources through structured endpoints.\n",
    "\n",
    "### 4.2 Fault Tolerance\n",
    "\n",
    "Fault tolerance is critical in ensuring that systems continue to operate smoothly even when errors occur. In our application, I implemented error handling to manage issues such as file not found errors when loading movies from a JSON file.\n",
    "\n",
    "```python\n",
    "def load_movies():\n",
    "    try:\n",
    "        with open('movies.json') as f:\n",
    "            return json.load(f)\n",
    "    except FileNotFoundError:\n",
    "        return [], \"File not found.\"\n",
    "    except json.JSONDecodeError:\n",
    "        return [], \"Error decoding JSON.\"\n",
    "```\n",
    "\n",
    "This approach ensures that our application can gracefully handle errors without crashing, providing users with feedback when something goes wrong.\n",
    "\n",
    "### 4.3 Parallel and Distributed Computing\n",
    "\n",
    "Parallel and distributed computing enhance processing efficiency by leveraging multiple resources. In our project, we primarily use a centralized database to manage book adaptations, but we can think about scalability as our user base grows.\n",
    "\n",
    "For example, when querying books from the database, we might structure it like this:\n",
    "\n",
    "```python\n",
    "class BookAPI(Resource):\n",
    "    def get(self):\n",
    "        books = Book.query.all()\n",
    "        return jsonify([book.read() for book in books])\n",
    "```\n",
    "\n",
    "While this code runs on a single server, in a distributed system, we could have multiple servers querying different segments of the database, allowing for faster response times and better handling of user requests.\n",
    "\n",
    "### Conclusion\n",
    "\n",
    "Big Idea 4 in AP CSP has provided essential insights into how the Internet functions, the importance of fault tolerance, and the principles of parallel and distributed computing. Understanding these concepts prepares us to tackle modern computing challenges and appreciate the technology that underpins our daily lives."
   ]
  }
 ],
 "metadata": {
  "kernelspec": {
   "display_name": "Emoji",
   "language": "python",
   "name": "python3"
  },
  "language_info": {
   "codemirror_mode": {
    "name": "ipython",
    "version": 3
   },
   "file_extension": ".py",
   "mimetype": "text/x-python",
   "name": "python",
   "nbconvert_exporter": "python",
   "pygments_lexer": "ipython3",
   "version": "3.12.5"
  }
 },
 "nbformat": 4,
 "nbformat_minor": 2
}
