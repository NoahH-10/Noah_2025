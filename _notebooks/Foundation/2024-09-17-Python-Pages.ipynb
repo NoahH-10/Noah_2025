{
 "cells": [
  {
   "cell_type": "raw",
   "metadata": {
    "vscode": {
     "languageId": "raw"
    }
   },
   "source": [
    "---\n",
    "layout: post\n",
    "title: Games\n",
    "description: Python Pages Hacks\n",
    "type: issues \n",
    "comments: true\n",
    "permalink: /python-pages\n",
    "---"
   ]
  },
  {
   "cell_type": "markdown",
   "metadata": {},
   "source": []
  },
  {
   "cell_type": "markdown",
   "metadata": {},
   "source": [
    "I would press the command button before clicking the links so they open in a new tab\n",
    "\n",
    "[Open Tic-Tac-Toe](http://127.0.0.1:5500/_notebooks/Foundation/Tic-Tac-Toe/index.html)  \n",
    "[Open Cookie Clicker](http://127.0.0.1:5500/_notebooks/Foundation/Cookie%20Clicker/index.html)  \n",
    "[Open Calculator](http://127.0.0.1:5500/_notebooks/Foundation/Calculator/index.html)\n",
    "[Open Snake](http://127.0.0.1:5500/_notebooks/Foundation/Snake%20Game/index.html)\n",
    "\n"
   ]
  }
 ],
 "metadata": {
  "kernelspec": {
   "display_name": "Emoji",
   "language": "python",
   "name": "python3"
  },
  "language_info": {
   "codemirror_mode": {
    "name": "ipython",
    "version": 3
   },
   "file_extension": ".py",
   "mimetype": "text/x-python",
   "name": "python",
   "nbconvert_exporter": "python",
   "pygments_lexer": "ipython3",
   "version": "3.12.5"
  }
 },
 "nbformat": 4,
 "nbformat_minor": 2
}
