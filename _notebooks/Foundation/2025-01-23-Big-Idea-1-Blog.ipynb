{
 "cells": [
  {
   "cell_type": "raw",
   "metadata": {
    "vscode": {
     "languageId": "raw"
    }
   },
   "source": [
    "---\n",
    "layout: post\n",
    "title: Big Idea 1 Blog\n",
    "description: A blog where I share what I have learned in Big Idea 1\n",
    "type: issues \n",
    "comments: true\n",
    "permalink: /big-idea-1-blog\n",
    "---"
   ]
  },
  {
   "cell_type": "markdown",
   "metadata": {},
   "source": [
    "## Big Idea 1\n",
    "\n",
    "According to the College Board Requirements, Big Idea 1 focuses on creative development, including the topics of collaboration, program function and purpose, program design and development, and identifying and correcting errors.\n",
    "\n",
    "### 1.1 Collaboration\n",
    "\n",
    "One of the most significant aspects of our AP CSP class has been the emphasis on collaboration. Working in teams during our project sprints has taught me the value of effective communication and teamwork. Using Agile and Scrum methodologies, we set up kanban boards to visualize our progress and assign tasks based on each member's strengths.\n",
    "\n",
    "For example, during our development of our website, we regularly discussed our progress and any roadblocks we faced. This practice fostered an environment where everyone felt comfortable sharing ideas and asking for help, ultimately leading to a more cohesive and productive team dynamic. I learned that collaboration is not just about dividing tasks but about building a supportive network that encourages creativity and innovation.\n",
    "\n",
    "### 1.2 Program Function and Purpose\n",
    "\n",
    "Understanding program function and purpose has been crucial in guiding our projects. We started by clearly defining the goals of our applications, which helped us establish a solid foundation for development. I learned how important it is to articulate the intended functionality of a program before writing any code.\n",
    "\n",
    "For instance, while developing our Flocker website, we outlined its features, such as adding tasks, setting deadlines, and tracking progress. This initial focus on purpose helped us stay aligned throughout the development process. A sample code snippet to illustrate this could be:\n",
    "\n",
    "```python\n",
    "def add_task(task_title, deadline):\n",
    "    tasks.append({'title': task_title, 'deadline': deadline})\n",
    "```\n",
    "\n",
    "By understanding the core functions of our program, we were better equipped to make informed decisions as we developed and refined our app.\n",
    "\n",
    "### 1.3 Program Design and Development\n",
    "\n",
    "We adopted various design principles to ensure our applications were user-friendly and effective. The iterative design process allowed us to prototype, test, and refine our ideas based on feedback.\n",
    "\n",
    "During Sprint 4, we created a Kanban board to visualize the tasks needed to develop our team website and used Draw.io to draw basic designs of pages before coding began. This made the development smoother and created discussions about user experience. I learned that thoughtful design is essential in creating programs that are not only functional but also enjoyable for users.\n",
    "\n",
    "<img src=\"{{site.baseurl}}/images/fullstackblog/kanban.png\" alt=\"Kanban Board\">\n",
    "\n",
    "### 1.4 Identifying and Correcting Errors\n",
    "\n",
    "Our development process was definitely full of challenges, and identifying and correcting errors was a critical skill we have improved upon. Throughout our projects, we encountered bugs and issues that required careful analysis and troubleshooting. This aspect of programming taught me patience and persistence.\n",
    "\n",
    "For example, when a teammate faced an error with fetching static API data, we worked together to troubleshoot the problem. By examining working code and utilizing debugging tools, we were able to isolate the issue. Here’s a code snippet that shows how we implemented error handling during API calls:\n",
    "\n",
    "```python\n",
    "try:\n",
    "    response = requests.get(api_url)\n",
    "    response.raise_for_status()  # Raises an HTTPError for bad responses\n",
    "except requests.exceptions.RequestException as e:\n",
    "    print(f\"Error fetching data: {e}\")\n",
    "```\n",
    "\n",
    "This process highlighted the importance of identifying issues early and implementing effective error handling.\n",
    "\n",
    "### Conclusion\n",
    "\n",
    "Big Idea 1 in AP CSP has helped me improve my collaboration skills and deepen my understanding of program function and purpose, program design and development, and identifying and correcting errors. These sprints have increased my understanding of computing, not just for this class but for future classes and projects I will have in college or even in a possible career."
   ]
  }
 ],
 "metadata": {
  "kernelspec": {
   "display_name": "Emoji",
   "language": "python",
   "name": "python3"
  },
  "language_info": {
   "codemirror_mode": {
    "name": "ipython",
    "version": 3
   },
   "file_extension": ".py",
   "mimetype": "text/x-python",
   "name": "python",
   "nbconvert_exporter": "python",
   "pygments_lexer": "ipython3",
   "version": "3.12.5"
  }
 },
 "nbformat": 4,
 "nbformat_minor": 2
}
