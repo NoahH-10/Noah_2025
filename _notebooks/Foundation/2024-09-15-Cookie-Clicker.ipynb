{
 "cells": [
  {
   "attachments": {},
   "cell_type": "raw",
   "metadata": {
    "vscode": {
     "languageId": "raw"
    }
   },
   "source": [
    "---\n",
    "layout: post\n",
    "title: Cookie Clicker\n",
    "description: Simple Game\n",
    "Categories: [Javascript]\n",
    "permalink: /javascript/project/cookie-clicker\n",
    "menu: nav/javascript_project.html\n",
    "toc: true\n",
    "comments: true\n",
    "---"
   ]
  },
  {
   "cell_type": "markdown",
   "metadata": {},
   "source": [
    "<html lang=\"en\">\n",
    "<head>\n",
    "    <meta charset=\"UTF-8\">\n",
    "    <meta name=\"viewport\" content=\"width=device-width, initial-scale=1.0\">\n",
    "    <title>Cookie Clicker</title>\n",
    "    <style>\n",
    "        body {\n",
    "            display: flex;\n",
    "            flex-direction: column;\n",
    "            align-items: center;\n",
    "            font-family: Arial, sans-serif;\n",
    "            background-color: #f5f5dc;\n",
    "        }\n",
    "        #cookie {\n",
    "            width: 200px;\n",
    "            height: 200px;\n",
    "            background-image: url('https://upload.wikimedia.org/wikipedia/commons/thumb/4/45/Chocolate_chip_cookie.png/200px-Chocolate_chip_cookie.png');\n",
    "            background-size: cover;\n",
    "            cursor: pointer;\n",
    "            margin: 20px;\n",
    "        }\n",
    "        #count {\n",
    "            font-size: 2em;\n",
    "            margin: 10px;\n",
    "        }\n",
    "        #upgrade {\n",
    "            margin-top: 20px;\n",
    "            font-size: 1.2em;\n",
    "        }\n",
    "    </style>\n",
    "</head>\n",
    "<body>\n",
    "    <h1>Cookie Clicker</h1>\n",
    "    <div id=\"cookie\" onclick=\"clickCookie()\"></div>\n",
    "    <div id=\"count\">Cookies: 0</div>\n",
    "    <div id=\"upgrade\">\n",
    "        <button onclick=\"buyUpgrade()\">Buy Upgrade (Cost: 50 cookies)</button>\n",
    "    </div>\n",
    "    <script>\n",
    "        let cookieCount = 0;\n",
    "        let cookiesPerClick = 1;\n",
    "        let upgradeCost = 50;\n",
    "        function clickCookie() {\n",
    "            cookieCount += cookiesPerClick;\n",
    "            document.getElementById('count').innerText = `Cookies: ${cookieCount}`;\n",
    "        }\n",
    "        function buyUpgrade() {\n",
    "            if (cookieCount >= upgradeCost) {\n",
    "                cookieCount -= upgradeCost;\n",
    "                cookiesPerClick++;\n",
    "                upgradeCost = Math.floor(upgradeCost * 1.5);\n",
    "                document.getElementById('count').innerText = `Cookies: ${cookieCount}`;\n",
    "                updateUpgradeText();\n",
    "            } else {\n",
    "                alert(\"Not enough cookies!\");\n",
    "            }\n",
    "        }\n",
    "        function updateUpgradeText() {\n",
    "            document.querySelector('#upgrade button').innerText = `Buy Upgrade (Cost: ${upgradeCost} cookies)`;\n",
    "        }\n",
    "    </script>\n",
    "</body>\n",
    "</html>\n"
   ]
  }
 ],
 "metadata": {
  "kernelspec": {
   "display_name": "Python 3 (ipykernel)",
   "language": "python",
   "name": "python3"
  },
  "language_info": {
   "codemirror_mode": {
    "name": "ipython",
    "version": 3
   },
   "file_extension": ".py",
   "mimetype": "text/x-python",
   "name": "python",
   "nbconvert_exporter": "python",
   "pygments_lexer": "ipython3",
   "version": "3.12.5"
  }
 },
 "nbformat": 4,
 "nbformat_minor": 4
}
