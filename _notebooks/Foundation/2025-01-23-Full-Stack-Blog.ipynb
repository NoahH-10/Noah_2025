{
 "cells": [
  {
   "cell_type": "raw",
   "metadata": {
    "vscode": {
     "languageId": "raw"
    }
   },
   "source": [
    "---\n",
    "layout: post\n",
    "title: Full Stack Blog\n",
    "description: A blog where I share my full stack development journey.\n",
    "type: issues \n",
    "comments: true\n",
    "permalink: /FullstackBlog\n",
    "---"
   ]
  },
  {
   "cell_type": "markdown",
   "metadata": {},
   "source": [
    "Prepare Your Blog: Create a blog that includes the following:\n",
    "\n",
    "- Group Program Purpose: Explain the purpose of your group’s program.\n",
    "- Individual Feature Purpose: Describe the purpose of your specific feature. (done)\n",
    "# Input/Output:\n",
    "- Show how data is inputted and outputted. (done)\n",
    "- Include a demo of API requests and responses (live demo). (done, maybe add a video)\n",
    "- Use Postman to demonstrate raw API requests and RESTful responses. (done)\n",
    "- Demonstrate database operations like db_init, db_restore, and db_backup. (done)\n",
    "- Data Structures: Discuss how you use lists and dictionaries in your code.\n",
    "- Formatting Data: Explain how you format JSON data into the DOM.\n",
    "- Database Queries: Describe how you extract data using queries and a third-party library.\n",
    "- Class Methods: Detail the CRUD methods in your class.\n",
    "- Algorithmic Code: Show how you handle requests with code blocks.\n",
    "- API Class: Discuss the methods used for GET, POST, PUT, and DELETE.\n",
    "- Parameters/Return Types: Explain the parameters and return types for your functions.\n",
    "- Algorithm Calls: Show how you make requests and handle responses, including error conditions."
   ]
  },
  {
   "cell_type": "markdown",
   "metadata": {},
   "source": [
    "The purpose of our groups project is _______. The purpose of my books adaptation page is to allow users to see whether or not a book has been made into a movie, which is a common question for many when starting a book. Users can also suggest a book to be added to the static list of books that have been made into movie adapations. Our groups Kanban board is linked here: ADD LINK\n",
    "\n",
    "## Inputs and Outputs\n",
    "On my frontend page \"Book Adaptation Checker\", users can click a button to make the table of books visible. Above that button is another button and box for users to input a book name that will be added to the table. On the table itself, there are two buttons, \"Update\" and \"Delete,\" which allows users to rename a book if they spelled it incorrectly or delete a book if it is either already on the static list, isn't a book that has been made into a movie, or has been added to the static list.\n",
    "\n",
    "User can click the button \"List of Books\" to show the table from the backend on frontend\n",
    "<img src=\"{{site.baseurl}}/images/fullstackblog/Read.png\" alt=\"Read\">\n",
    "\n",
    "User can input a book name into the box and click \"Create\" to add it to the table on the frontend and backend. (I created the book \"Fahrenheit 451\")\n",
    "<img src=\"{{site.baseurl}}/images/fullstackblog/Create.png\" alt=\"Create\">\n",
    "\n",
    "User can click \"Delete\" to delete a book from the table and \"Update\" to rename a book (I updated \"A Wrinkle in Time\" to \"A Crease in the 5th Dimension\" and deleted \"Fahrenheit 451\")\n",
    "<img src=\"{{site.baseurl}}/images/fullstackblog/UpdateAndDelete.png\" alt=\"UpdateAndDelete\">\n",
    "\n",
    "The user input can also be simulated without the frontend, by using postman.\n",
    "\n",
    "By using a \"GET\" request, I can retrieve all the books and their ids in from the backend.\n",
    "<img src=\"{{site.baseurl}}/images/fullstackblog/PostmanRead.png\" alt=\"PostmanRead\">\n",
    "\n",
    "By using a \"POST\" request, I can create a book in the backend table by inputting a book title in JSON format\n",
    "<img src=\"{{site.baseurl}}/images/fullstackblog/PostmanCreate.png\" alt=\"PostmanCreate\">\n",
    "\n",
    "By using a \"PUT\" request, entering the book id I want to rename in the request, and adding the renamed book title in JSON format, I can rename a book from the backend table.\n",
    "<img src=\"{{site.baseurl}}/images/fullstackblog/PostmanUpdate.png\" alt=\"PostmanUpdate\">\n",
    "\n",
    "By using a \"DELETE\" request and putting the id of the book I want to remove, I can delete that book from the table in the backend.\n",
    "<img src=\"{{site.baseurl}}/images/fullstackblog/PostmanDelete.png\" alt=\"PostmanDelete\">\n",
    "\n",
    "There are three database operations, initializing, restorating, and backing up the database. I initialize the database by running db_init.py:\n",
    "<img src=\"{{site.baseurl}}/images/fullstackblog/db_init.png\" alt=\"Initializing\">\n",
    "\n",
    "How it works:\n",
    "- It prompts the user for confirmation before making any changes\n",
    "- It drops all exsisting tables and calls the function generate_data() to create the new tables with default data\n",
    "- The function generate_data() is defined in main.py, and has the initialization function for each table, which is defined in each individual model file, which contains the default data that is called\n",
    "\n",
    "I restore the database by running db_restore.py:\n",
    "<img src=\"{{site.baseurl}}/images/fullstackblog/db_restore.png\" alt=\"Restoring\">\n",
    "\n",
    "How it works:\n",
    "- It runs restore_data_command, which is defined in main.py\n",
    "- This command contains a restore command for each table it restores, for example, mine is \"_ = Book.restore(data.get('books', []))\"\n",
    "- Each model file has defines their restore function, which is a static method (meaing it can be called on the class itself without needing an instance), and goes through the data and (mine specifically) checks if a book with the given title already exists in the database using a query\n",
    "- Then, if the book exsists, it updates its data, and if it doesn't it create a new Book instance using the provided data\n",
    "\n",
    "I back up the data into a seperate database by running db_backup.py:\n",
    "<img src=\"{{site.baseurl}}/images/fullstackblog/db_backup.png\" alt=\"Backing up\">\n",
    "\n",
    "How it works:\n",
    "- It runs the backup_data command, which is defined in main.py; it runs three distinct functions, extract_data(), save_data_to_json(), and backup_database()\n",
    "- extract_data() gathers the data from the tables and returns it as a dictionary\n",
    "- save_data_to_json() saves the extracted data into JSON files in the \"backup\" folder (for example, mine is called books.json)\n",
    "- backup_database() creates a backup file of the user_management.db file called user_management_bak.db by copying it (shutil.copyfile())\n",
    "\n"
   ]
  }
 ],
 "metadata": {
  "kernelspec": {
   "display_name": "Emoji",
   "language": "python",
   "name": "python3"
  },
  "language_info": {
   "codemirror_mode": {
    "name": "ipython",
    "version": 3
   },
   "file_extension": ".py",
   "mimetype": "text/x-python",
   "name": "python",
   "nbconvert_exporter": "python",
   "pygments_lexer": "ipython3",
   "version": "3.12.5"
  }
 },
 "nbformat": 4,
 "nbformat_minor": 2
}
