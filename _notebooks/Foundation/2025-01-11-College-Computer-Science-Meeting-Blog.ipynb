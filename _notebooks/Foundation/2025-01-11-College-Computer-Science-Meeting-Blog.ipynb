{
 "cells": [
  {
   "cell_type": "raw",
   "metadata": {
    "vscode": {
     "languageId": "raw"
    }
   },
   "source": [
    "---\n",
    "layout: post\n",
    "title: College Computer Science Students Insights Blog\n",
    "description: A blog where I share my takeaways and thoughts on the information I heard from the Computer Science College Students\n",
    "type: issues \n",
    "categories: [Personal]\n",
    "comments: true\n",
    "permalink: /College-CS-Blog\n",
    "---"
   ]
  },
  {
   "cell_type": "markdown",
   "metadata": {
    "vscode": {
     "languageId": "raw"
    }
   },
   "source": [
    "## Proof of Attendance Selfie\n",
    "\n",
    "<img src=\"{{site.baseurl}}/images/College_CS_Blog.jpeg\" width=\"200\" height=\"300\" />\n",
    "\n",
    "\n",
    "## Blog\n",
    "\n",
    "On Thursday, I got the chance to listen to two computer science students, Nathan and Aadit. Both shared their experiences in their college courses and their takeaways from high school and Mr. Mortensen’s classes.\n",
    "\n",
    "When talking about how Mr. Mortensen’s classes prepared them for college, I was intrigued to hear that they both use the agile project management framework, such as the scrum setup and live reviews. They also said they used this not just in college courses, but also has come up in interviews and internships. I am thankful that our class is structured so I will be prepared for college if I go into computer science. Aadit and Nathan’s views on project management were similar, where they both advocated making large projects manageable by breaking them down into smaller tasks, which I found helpful when faced with a seemingly large task. Aadit suggested something I had never thought of, which was looking through the vast number of GitHub projects to spark idea generation. This resonated with me as someone who struggles with creativity.\n",
    "\n",
    "What stood out the most is both guys emphasized that communication was key. This was the most impactful insight for me, as I struggle with promoting myself, talking about my ideas, and especially communicating with my team and collaborating together.\n",
    "\n",
    "I found it to be helpful to hear from these former students and understand the impact our computer science class with have on our future and I agree that it would be beneficial to be less stressed and enjoy highschool.\n"
   ]
  }
 ],
 "metadata": {
  "kernelspec": {
   "display_name": "Emoji",
   "language": "python",
   "name": "python3"
  },
  "language_info": {
   "codemirror_mode": {
    "name": "ipython",
    "version": 3
   },
   "file_extension": ".py",
   "mimetype": "text/x-python",
   "name": "python",
   "nbconvert_exporter": "python",
   "pygments_lexer": "ipython3",
   "version": "3.12.5"
  }
 },
 "nbformat": 4,
 "nbformat_minor": 2
}
