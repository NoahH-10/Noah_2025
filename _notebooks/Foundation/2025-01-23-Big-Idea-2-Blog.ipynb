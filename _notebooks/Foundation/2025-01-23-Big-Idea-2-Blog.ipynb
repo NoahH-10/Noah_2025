{
 "cells": [
  {
   "cell_type": "raw",
   "metadata": {
    "vscode": {
     "languageId": "raw"
    }
   },
   "source": [
    "---\n",
    "layout: post\n",
    "title: Big Idea 2 Blog\n",
    "description: A blog where I share what I have learned in Big Idea 2\n",
    "type: issues \n",
    "categories: [Personal]\n",
    "comments: true\n",
    "permalink: /big-idea-2-blog\n",
    "---"
   ]
  },
  {
   "cell_type": "markdown",
   "metadata": {},
   "source": [
    "## Big Idea 2\n",
    "\n",
    "According to the College Board Requirements, Big Idea 2 focuses on binary numbers, data compression, extracting information from data, and using programs with data.\n",
    "\n",
    "## 2.1 Binary Numbers\n",
    "\n",
    "We did not cover this topic in depth in class, but I know that computers use binary (0s and 1s) to represent all types of data and process information. The binary system is used to encode everything from numbers and text to images and sounds, it allows computers to perform complex operations through simple on/off signals. By combining multiple binary digits (bits), computers can efficiently store and process vast amounts of information, making binary essential for all computing functions.\n",
    "\n",
    "One thing we did do, which was not required, was create a binary calculator on our personal website, which helped reinforce my understanding of binary as I had only a superficial understanding of how crucial binary is in storing data. \n",
    "\n",
    "## 2.2 Data Compression\n",
    "\n",
    "We did not cover data compression in our lessons, but I learned about it when I took a supplemental Khan Academy course before taking the class. Data compression show how data can be reduced in size for faster and more efficient storage and transmission. I learned about different compression algorithms and the trade-offs between lossless and lossy (permanently removing some data) compression. It works by eliminating redundancy and using algorithms to encode information more efficiently, which is especially important for large files like images, audio, and video. By balancing file size and quality, data compression allows users to save storage space and enhances the speed of data transfer over networks, making it a critical aspect of modern computing.\n",
    "\n",
    "## 2.3 Extracting Information from Data\n",
    "\n",
    "\n",
    "\n",
    "## 2.4 Using Programs with Data\n",
    "\n",
    "We explored how to write code that manipulates and analyzes data, which is a crucial skill for any programmer. In Spring 4, I developed a program that took user input and did various actions based on that input, like create, update, and delete. This experience showed me how to create dynamic applications that respond to real-world data. I learned that the ability to work with data is fundamental in creating meaningful programs that can solve problems and enhance user experiences.\n",
    "\n",
    "### Conclusion\n",
    "\n",
    "Big Idea 2 in AP CSP has deepened my understanding of binary numbers, data compression, extracting information from data, and using programs with data. These concepts are essential for any aspiring computer scientist and have equipped me with the knowledge to handle data effectively in future projects. I am excited to continue exploring these ideas and applying them in practical ways as I advance in my studies!"
   ]
  }
 ],
 "metadata": {
  "kernelspec": {
   "display_name": "Emoji",
   "language": "python",
   "name": "python3"
  },
  "language_info": {
   "codemirror_mode": {
    "name": "ipython",
    "version": 3
   },
   "file_extension": ".py",
   "mimetype": "text/x-python",
   "name": "python",
   "nbconvert_exporter": "python",
   "pygments_lexer": "ipython3",
   "version": "3.12.5"
  }
 },
 "nbformat": 4,
 "nbformat_minor": 2
}
