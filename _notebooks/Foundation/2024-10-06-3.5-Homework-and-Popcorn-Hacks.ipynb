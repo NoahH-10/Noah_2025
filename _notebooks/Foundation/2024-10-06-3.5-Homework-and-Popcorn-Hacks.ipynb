{
 "cells": [
  {
   "attachments": {},
   "cell_type": "raw",
   "metadata": {
    "vscode": {
     "languageId": "raw"
    }
   },
   "source": [
    "---\n",
    "layout: post\n",
    "title: 3.5 Homework and Popcorn Hacks\n",
    "description: GitHub Pages Hacks\n",
    "type: issues \n",
    "comments: true\n",
    "permalink: /3-5-Homework\n",
    "---"
   ]
  },
  {
   "cell_type": "markdown",
   "metadata": {},
   "source": [
    "# 3.5 Lesson Hacks\n",
    "\n",
    "## Python Popcorn Hacks\n",
    "\n",
    "### Problem 1: \n",
    "\n",
    "Check Number: Evaluate if a number is less than 0. Output: Logs whether the number is negative or non-negative. (Python)"
   ]
  },
  {
   "cell_type": "code",
   "execution_count": 1,
   "metadata": {},
   "outputs": [
    {
     "name": "stdout",
     "output_type": "stream",
     "text": [
      "The number -5 is negative.\n",
      "The number 10 is non-negative.\n"
     ]
    }
   ],
   "source": [
    "def evaluate_number(number):\n",
    "    # Check if the number is less than 0\n",
    "    if number < 0:\n",
    "        print(f\"The number {number} is negative.\")\n",
    "    else:\n",
    "        print(f\"The number {number} is non-negative.\")\n",
    "\n",
    "# Example usage\n",
    "evaluate_number(-5)  # This will log: The number -5 is negative.\n",
    "evaluate_number(10)  # This will log: The number 10 is non-negative."
   ]
  },
  {
   "cell_type": "markdown",
   "metadata": {},
   "source": [
    "### Problem 2: \n",
    "\n",
    "Check Vowel: Checks if char is in the string ‘aeiou’. Output: Prints whether the character is a vowel or not. (Python)"
   ]
  },
  {
   "cell_type": "code",
   "execution_count": null,
   "metadata": {},
   "outputs": [],
   "source": [
    "def check_vowel(char):\n",
    "    # Convert the character to lowercase for case-insensitivity\n",
    "    char = char.lower()\n",
    "    \n",
    "    # Check if the character is a vowel\n",
    "    if char in 'aeiou':\n",
    "        print(f\"The character '{char}' is a vowel.\")\n",
    "    else:\n",
    "        print(f\"The character '{char}' is not a vowel.\")\n",
    "\n",
    "# Example usage\n",
    "check_vowel('a')  # Output: The character 'a' is a vowel.\n",
    "check_vowel('B')  # Output: The character 'b' is not a vowel.\n",
    "check_vowel('o')  # Output: The character 'o' is a vowel."
   ]
  },
  {
   "cell_type": "markdown",
   "metadata": {},
   "source": [
    "## Python Homework Hacks\n",
    "\n",
    "### Problem 1:\n",
    "\n",
    "Create a Truth Table:\n",
    "- Develop a truth table for a given logical expression."
   ]
  },
  {
   "cell_type": "code",
   "execution_count": 2,
   "metadata": {},
   "outputs": [
    {
     "name": "stdout",
     "output_type": "stream",
     "text": [
      "A | B | C | (A AND B) | NOT C | (A AND B) OR (NOT C)\n",
      "--------------------------------------------------------------------------------\n",
      "1     | 1     | 1     | 1         | 0     | 1                  \n",
      "1     | 1     | 0     | 1         | 1     | 1                  \n",
      "1     | 0     | 1     | 0         | 0     | 0                  \n",
      "1     | 0     | 0     | 0         | 1     | 1                  \n",
      "0     | 1     | 1     | 0         | 0     | 0                  \n",
      "0     | 1     | 0     | 0         | 1     | 1                  \n",
      "0     | 0     | 1     | 0         | 0     | 0                  \n",
      "0     | 0     | 0     | 0         | 1     | 1                  \n"
     ]
    }
   ],
   "source": [
    "import itertools\n",
    "\n",
    "# List of column headers for the truth table\n",
    "headers = ['A', 'B', 'C', '(A AND B)', 'NOT C', '(A AND B) OR (NOT C)']\n",
    "\n",
    "# Generate all combinations of True/False for A, B, and C (3 variables, so repeat=3)\n",
    "values = list(itertools.product([True, False], repeat=3))\n",
    "\n",
    "def print_truth_table():\n",
    "    # Print the headers for the truth table\n",
    "    print(f\"{' | '.join(headers)}\")\n",
    "    print(\"-\" * 80)  # A line to separate the headers from the values\n",
    "    \n",
    "    # Iterate through all combinations of values for A, B, and C\n",
    "    for A, B, C in values:\n",
    "        # Evaluate the different logical expressions\n",
    "        a_and_b = A and B\n",
    "        not_c = not C\n",
    "        a_and_b_or_not_c = a_and_b or not_c\n",
    "        \n",
    "        # Print the results for the current combination of A, B, and C\n",
    "        print(f\"{A:<5} | {B:<5} | {C:<5} | {a_and_b:<9} | {not_c:<5} | {a_and_b_or_not_c:<19}\")\n",
    "\n",
    "# Call the function to print the truth table\n",
    "print_truth_table()\n"
   ]
  },
  {
   "cell_type": "markdown",
   "metadata": {},
   "source": [
    "### Problem 2:\n",
    "Create a Game Using De Morgan’s Law\n",
    "- Design a simple game that uses De Morgan’s Law to simplify yes or no functions."
   ]
  },
  {
   "cell_type": "code",
   "execution_count": 4,
   "metadata": {},
   "outputs": [
    {
     "name": "stdout",
     "output_type": "stream",
     "text": [
      "Welcome to the De Morgan's Law Game!\n",
      "We have two conditions:\n",
      "A: False\n",
      "B: False\n"
     ]
    },
    {
     "name": "stdout",
     "output_type": "stream",
     "text": [
      "Correct! Well done.\n",
      "Correct! Well done.\n",
      "\n",
      "Thanks for playing!\n"
     ]
    }
   ],
   "source": [
    "import random\n",
    "\n",
    "# De Morgan's Law Functions\n",
    "def de_morgan_and_or(a, b):\n",
    "    # Apply De Morgan's Law: NOT (A AND B) = (NOT A) OR (NOT B)\n",
    "    return not (a and b) == (not a or not b)\n",
    "\n",
    "def de_morgan_or_and(a, b):\n",
    "    # Apply De Morgan's Law: NOT (A OR B) = (NOT A) AND (NOT B)\n",
    "    return not (a or b) == (not a and not b)\n",
    "\n",
    "# Game function\n",
    "def play_game():\n",
    "    # Randomly choose two boolean values (True or False) for A and B\n",
    "    a = random.choice([True, False])\n",
    "    b = random.choice([True, False])\n",
    "\n",
    "    # Ask the player to guess the result for \"NOT (A AND B)\"\n",
    "    print(\"Welcome to the De Morgan's Law Game!\")\n",
    "    print(\"We have two conditions:\")\n",
    "    print(f\"A: {a}\")\n",
    "    print(f\"B: {b}\")\n",
    "    \n",
    "    # Ask for user input on the first condition (NOT (A AND B))\n",
    "    user_guess_and_or = input(\"Do you think 'NOT (A AND B)' is True? (yes/no): \").lower()\n",
    "    \n",
    "    # Evaluate the correct answer using De Morgan's Law\n",
    "    correct_answer_and_or = de_morgan_and_or(a, b)\n",
    "\n",
    "    # Check if the player's guess matches the correct answer\n",
    "    if (user_guess_and_or == \"yes\" and correct_answer_and_or) or (user_guess_and_or == \"no\" and not correct_answer_and_or):\n",
    "        print(\"Correct! Well done.\")\n",
    "    else:\n",
    "        print(\"Oops! That's not correct.\")\n",
    "\n",
    "    # Ask for user input on the second condition (NOT (A OR B))\n",
    "    user_guess_or_and = input(\"Do you think 'NOT (A OR B)' is True? (yes/no): \").lower()\n",
    "    \n",
    "    # Evaluate the correct answer using De Morgan's Law\n",
    "    correct_answer_or_and = de_morgan_or_and(a, b)\n",
    "\n",
    "    # Check if the player's guess matches the correct answer\n",
    "    if (user_guess_or_and == \"yes\" and correct_answer_or_and) or (user_guess_or_and == \"no\" and not correct_answer_or_and):\n",
    "        print(\"Correct! Well done.\")\n",
    "    else:\n",
    "        print(\"Oops! That's not correct.\")\n",
    "    \n",
    "    print(\"\\nThanks for playing!\")\n",
    "\n",
    "# Run the game\n",
    "play_game()\n"
   ]
  },
  {
   "cell_type": "markdown",
   "metadata": {},
   "source": [
    "## JavaScript Popcorn Hacks\n",
    "\n",
    "### Problem 1:\n",
    "\n",
    "Use logical operators to identify if the inputed number is even or odd. (Javascript)"
   ]
  },
  {
   "cell_type": "code",
   "execution_count": null,
   "metadata": {
    "vscode": {
     "languageId": "javascript"
    }
   },
   "outputs": [],
   "source": [
    "function checkEvenOrOdd(number) {\n",
    "    // Check if the number is even or odd using the modulo operator (%)\n",
    "    if (number % 2 === 0) {\n",
    "        console.log(`The number ${number} is even.`);\n",
    "    } else {\n",
    "        console.log(`The number ${number} is odd.`);\n",
    "    }\n",
    "}\n",
    "\n",
    "// Example usage\n",
    "checkEvenOrOdd(4);  // Output: The number 4 is even.\n",
    "checkEvenOrOdd(7);  // Output: The number 7 is odd."
   ]
  },
  {
   "cell_type": "markdown",
   "metadata": {},
   "source": [
    "## JavaScript Homework Hacks\n",
    "\n",
    "### Problem 1:\n",
    "\n",
    "1. Password Creator Hack\n",
    "This hack is a password creator that checks whether a user’s password meets certain criteria (length, character types, etc). Use what you learned with relational operators to create a simple password create and use De Morgan’s Law to simplfiy the conditions for easier readability and understanding\n",
    "\n",
    "Features:\n",
    "- The password must be at least 10 characters long.\n",
    "- It must include both uppercase and lowercase letters.\n",
    "- It must contain at least one number.\n",
    "- It must not contain any spaces."
   ]
  },
  {
   "cell_type": "code",
   "execution_count": null,
   "metadata": {
    "vscode": {
     "languageId": "javascript"
    }
   },
   "outputs": [],
   "source": [
    "function validatePassword(password) {\n",
    "    // Criteria for password validation:\n",
    "    // 1. Must be at least 10 characters long.\n",
    "    // 2. Must include both uppercase and lowercase letters.\n",
    "    // 3. Must contain at least one number.\n",
    "    // 4. Must not contain spaces.\n",
    "    \n",
    "    // Use De Morgan's Law to simplify the checks\n",
    "    const hasLowercase = /[a-z]/.test(password); // Check for lowercase letters\n",
    "    const hasUppercase = /[A-Z]/.test(password); // Check for uppercase letters\n",
    "    const hasNumber = /\\d/.test(password); // Check for at least one number\n",
    "    const hasSpace = /\\s/.test(password); // Check if there's a space\n",
    "\n",
    "    // Check if all conditions are met using De Morgan's Law:\n",
    "    // De Morgan: !(Condition1 && Condition2) -> !Condition1 || !Condition2\n",
    "\n",
    "    const isValidLength = password.length >= 10;\n",
    "    const isValid = !hasSpace && isValidLength && hasLowercase && hasUppercase && hasNumber;\n",
    "\n",
    "    if (isValid) {\n",
    "        console.log(\"Password is valid!\");\n",
    "    } else {\n",
    "        console.log(\"Password is invalid. It must meet the following criteria:\");\n",
    "        if (password.length < 10) console.log(\"- Password must be at least 10 characters long.\");\n",
    "        if (!hasLowercase) console.log(\"- Password must include at least one lowercase letter.\");\n",
    "        if (!hasUppercase) console.log(\"- Password must include at least one uppercase letter.\");\n",
    "        if (!hasNumber) console.log(\"- Password must contain at least one number.\");\n",
    "        if (hasSpace) console.log(\"- Password must not contain spaces.\");\n",
    "    }\n",
    "}\n",
    "\n",
    "// Test the password validation function\n",
    "validatePassword(\"Password123\"); // Example valid password\n",
    "validatePassword(\"pass 123\");   // Example invalid password\n"
   ]
  },
  {
   "cell_type": "markdown",
   "metadata": {},
   "source": [
    "### Problem 2:\n",
    "\n",
    "Create a simple multiple-choice personality quiz that gives you a brief description of your personality based on the questions answered from the quiz. Use what you learned from relational operators and apply it for this hack.\n",
    "\n",
    "Requirements:\n",
    "- Must have at least 10 differnt questions\n",
    "- Must be multiple choice\n",
    "- Must have multiple different outputs based on results"
   ]
  },
  {
   "cell_type": "code",
   "execution_count": null,
   "metadata": {
    "vscode": {
     "languageId": "javascript"
    }
   },
   "outputs": [],
   "source": [
    "function startQuiz() {\n",
    "    let score = 0; // Initialize the score\n",
    "\n",
    "    // Questions and multiple-choice answers\n",
    "    const questions = [\n",
    "        {\n",
    "            question: \"1. How do you prefer to spend your weekend?\",\n",
    "            options: [\"A) Hanging out with friends\", \"B) Reading or watching movies\", \"C) Doing outdoor activities\", \"D) Sleeping in\"],\n",
    "            answer: \"A\"\n",
    "        },\n",
    "        {\n",
    "            question: \"2. When faced with a problem, you usually...\",\n",
    "            options: [\"A) Look for a quick solution\", \"B) Think deeply and analyze\", \"C) Ask others for help\", \"D) Wait and see if it resolves itself\"],\n",
    "            answer: \"B\"\n",
    "        },\n",
    "        {\n",
    "            question: \"3. Which of these best describes your working style?\",\n",
    "            options: [\"A) Collaborative and team-oriented\", \"B) Independent and self-reliant\", \"C) Flexible and adaptive\", \"D) Organized and structured\"],\n",
    "            answer: \"D\"\n",
    "        },\n",
    "        {\n",
    "            question: \"4. How do you handle stress?\",\n",
    "            options: [\"A) I take a break and relax\", \"B) I plan and prepare even more\", \"C) I talk it out with others\", \"D) I try to ignore it\"],\n",
    "            answer: \"A\"\n",
    "        },\n",
    "        {\n",
    "            question: \"5. What type of movies do you enjoy the most?\",\n",
    "            options: [\"A) Action or adventure\", \"B) Drama or thriller\", \"C) Comedy or romance\", \"D) Documentary or mystery\"],\n",
    "            answer: \"C\"\n",
    "        },\n",
    "        {\n",
    "            question: \"6. If you had to choose a vacation destination, where would you go?\",\n",
    "            options: [\"A) A busy city with lots of activities\", \"B) A quiet countryside or beach\", \"C) An adventurous location with nature\", \"D) A historical or cultural site\"],\n",
    "            answer: \"B\"\n",
    "        },\n",
    "        {\n",
    "            question: \"7. How do you prefer to solve conflicts?\",\n",
    "            options: [\"A) Confront the issue directly\", \"B) Avoid confrontation and find a compromise\", \"C) Ask others for advice first\", \"D) Let time resolve it naturally\"],\n",
    "            answer: \"A\"\n",
    "        },\n",
    "        {\n",
    "            question: \"8. Which of these is most important to you?\",\n",
    "            options: [\"A) Success and achievement\", \"B) Relationships and connection\", \"C) Freedom and adventure\", \"D) Security and stability\"],\n",
    "            answer: \"D\"\n",
    "        },\n",
    "        {\n",
    "            question: \"9. How do you feel about change?\",\n",
    "            options: [\"A) I embrace it and adapt easily\", \"B) I like to plan before making changes\", \"C) I resist it until I see a good reason\", \"D) I prefer things to stay the same\"],\n",
    "            answer: \"A\"\n",
    "        },\n",
    "        {\n",
    "            question: \"10. When working on a project, how do you typically approach it?\",\n",
    "            options: [\"A) Dive in and learn as I go\", \"B) Plan every detail before starting\", \"C) Ask for others' opinions and collaborate\", \"D) Take time to research thoroughly first\"],\n",
    "            answer: \"C\"\n",
    "        }\n",
    "    ];\n",
    "\n",
    "    // Function to ask questions and collect answers\n",
    "    questions.forEach((q, index) => {\n",
    "        let userAnswer = prompt(`${q.question}\\n${q.options.join(\"\\n\")}`);\n",
    "        if (userAnswer.toUpperCase() === q.answer) {\n",
    "            score++; // Increase score if answer is correct\n",
    "        }\n",
    "    });\n",
    "\n",
    "    // Determine personality type based on score\n",
    "    let personality = \"\";\n",
    "    if (score >= 8) {\n",
    "        personality = \"You are a confident leader, driven and always looking for opportunities to succeed. You love challenges and are not afraid to take risks!\";\n",
    "    } else if (score >= 5) {\n",
    "        personality = \"You are a thoughtful and independent person who values relationships. You are adaptable but also enjoy having time for yourself.\";\n",
    "    } else {\n",
    "        personality = \"You are a calm and steady person who values security and structure. You prefer to plan ahead and take things slow.\";\n",
    "    }\n",
    "\n",
    "    // Output the personality result\n",
    "    alert(`Your personality type: \\n${personality}`);\n",
    "}\n",
    "\n",
    "// Start the quiz when the page loads\n",
    "startQuiz();\n"
   ]
  }
 ],
 "metadata": {
  "kernelspec": {
   "display_name": "Python 3 (ipykernel)",
   "language": "python",
   "name": "python3"
  },
  "language_info": {
   "codemirror_mode": {
    "name": "ipython",
    "version": 3
   },
   "file_extension": ".py",
   "mimetype": "text/x-python",
   "name": "python",
   "nbconvert_exporter": "python",
   "pygments_lexer": "ipython3",
   "version": "3.12.6"
  }
 },
 "nbformat": 4,
 "nbformat_minor": 4
}
