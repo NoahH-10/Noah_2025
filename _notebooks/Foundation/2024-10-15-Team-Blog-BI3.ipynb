{
 "cells": [
  {
   "cell_type": "raw",
   "metadata": {
    "vscode": {
     "languageId": "raw"
    }
   },
   "source": [
    "---\n",
    "layout: post\n",
    "title: Team Blog Big Idea 3\n",
    "description: Sprint 2 - CSP Objectives\n",
    "type: issues \n",
    "comments: true\n",
    "permalink: /team-blog-big-idea-3\n",
    "---"
   ]
  },
  {
   "cell_type": "markdown",
   "metadata": {},
   "source": [
    "## Key Contributions:\n",
    "\n",
    "- We completed our lesson quickly and on time\n",
    "- We collaborated in our shared fork\n",
    "- We helped each other and communicated when stuck or confused either in person or via Slack or messages\n",
    "- We created homework that accurately evaluated a student's comprehension of our lesson \n",
    "- Our lesson has a good organization with detailed explanations of each concept.\n",
    "\n",
    "## Teaching Summary:\n",
    "\n",
    "3.10.1 (JavaScript Lists):\n",
    "Variables in JavaScript store data, which can be individual values or collections like arrays, initialized with square brackets. Arrays allow for indexed access (starting at 0) and modification of items using bracket notation, and methods such as push(), pop(), and splice() help manipulate the data. Loops, particularly for loops, enable efficient iteration over arrays to perform repetitive tasks, compute totals, or compile new lists based on conditions.\n",
    "3.10.2 (Python Lists):\n",
    "Lists in Python are initialized using square brackets and can be accessed or modified using their index, starting at 0. Methods like insert(), pop(), append(), and remove() allow for modifying the contents of a list. Loops, especially for loops, are used to iterate through lists, enabling efficient operations such as performing repetitive tasks, computing totals, or creating new lists based on conditions.\n",
    "3.10.3 (Python Hacks) and 3.10.4 (JavaScript Hacks):\n",
    "These “lessons” evaluate comprehension of previous teaching by asking the student to create and modify lists. This helps further the student’s understanding of the concept of lists.\n",
    "\n",
    "## Team Members Individual Issues\n",
    "### These issues also have links to each team members individual blog\n",
    "\n",
    "Name | Link\n",
    "-- | --\n",
    "Noah | [Link](https://github.com/NoahH-10/Noah_2025/issues/4)\n",
    "Zafeer | Link\n",
    "James | Link\n",
    "\n",
    "## Other Links\n",
    "\n",
    "[Grading Issue](https://github.com/nighthawkcoders/portfolio_2025/issues/465)"
   ]
  }
 ],
 "metadata": {
  "kernelspec": {
   "display_name": "Emoji",
   "language": "python",
   "name": "python3"
  },
  "language_info": {
   "codemirror_mode": {
    "name": "ipython",
    "version": 3
   },
   "file_extension": ".py",
   "mimetype": "text/x-python",
   "name": "python",
   "nbconvert_exporter": "python",
   "pygments_lexer": "ipython3",
   "version": "3.12.5"
  }
 },
 "nbformat": 4,
 "nbformat_minor": 2
}
