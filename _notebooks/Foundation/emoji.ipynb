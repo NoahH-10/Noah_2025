{
 "cells": [
  {
   "cell_type": "raw",
   "metadata": {
    "vscode": {
     "languageId": "raw"
    }
   },
   "source": [
    "---\n",
    "layout: post\n",
    "title: Emoji\n",
    "description: Hack 1 for Hacks Tools & Equipment Play\n",
    "type: issues \n",
    "comments: true\n",
    "permalink: /Emoji\n",
    "---"
   ]
  },
  {
   "cell_type": "markdown",
   "metadata": {},
   "source": []
  },
  {
   "cell_type": "code",
   "execution_count": 2,
   "metadata": {},
   "outputs": [
    {
     "name": "stdout",
     "output_type": "stream",
     "text": [
      "Requirement already satisfied: emoji in /Users/noahharris/Noah_2025/Emoji/lib/python3.12/site-packages (2.12.1)\n",
      "Requirement already satisfied: typing-extensions>=4.7.0 in /Users/noahharris/Noah_2025/Emoji/lib/python3.12/site-packages (from emoji) (4.12.2)\n",
      "Note: you may need to restart the kernel to use updated packages.\n",
      "👍 Python is awesome! 😀\n"
     ]
    }
   ],
   "source": [
    "%pip install emoji\n",
    "\n",
    "from emoji import emojize \n",
    "\n",
    "# Print a message with emojis\n",
    "print(emojize(\":thumbs_up: Python is awesome! :grinning_face:\"))"
   ]
  }
 ],
 "metadata": {
  "kernelspec": {
   "display_name": "Emoji",
   "language": "python",
   "name": "python3"
  },
  "language_info": {
   "codemirror_mode": {
    "name": "ipython",
    "version": 3
   },
   "file_extension": ".py",
   "mimetype": "text/x-python",
   "name": "python",
   "nbconvert_exporter": "python",
   "pygments_lexer": "ipython3",
   "version": "3.12.5"
  }
 },
 "nbformat": 4,
 "nbformat_minor": 2
}
