{
 "cells": [
  {
   "cell_type": "raw",
   "metadata": {
    "vscode": {
     "languageId": "raw"
    }
   },
   "source": [
    "---\n",
    "layout: post\n",
    "title: Sprint 3 MCQ Blog\n",
    "type: issues \n",
    "comments: true\n",
    "permalink: /sprint-3-MCQ-Blog\n",
    "---"
   ]
  },
  {
   "cell_type": "markdown",
   "metadata": {},
   "source": [
    "# Multiple Choice Question Exam Reflection\n",
    "\n",
    "## What did I learn from the Quiz?\n",
    "\n",
    "Taking the 2018 multiple-choice questions exam for AP Computer Science Principles (CSP) tested my knowledge and demonstrated to me how well I understood the course concepts. The exam taught me the basics on how to analyze date and make decisions using that data, required me to use problem-solving skills and creative thinking to challenge complicated problems or ones that I did not understand, and displayed how concepts from AP CSP are used in the real world.\n",
    "\n",
    "## Areas of Improvement\n",
    "\n",
    "<img src=\"{{site.baseurl}}/images/MCQ_image.png\">\n",
    "\n",
    "0% Categories:\n",
    "\n",
    "3.3 - Mathematical Expressions (0/1 question)\n",
    "\n",
    "50% Categories:\n",
    "\n",
    "3.6 - Conditionals (1/2 questions)\n",
    "5.4 - Crowdsourcing (1/2 questions)\n",
    "\n",
    "67% Categories:\n",
    "\n",
    "3.1 - Variables and Assignments (2/3 questions)\n",
    "3.5 - Boolean Expressions (2/3 questions)\n",
    "4.1 - The Internet (2/3 questions)\n",
    "\n",
    "75% Categories:\n",
    "\n",
    "3.9 - Developing Algorithms (3/4 questions)\n",
    "\n",
    "Based on these scores, I feel like I struggled more with questions that asked me to figure out code and some of the questions (Internet and Crowdsourcing) that regarded concepts I was unfamiliar with.\n",
    "\n",
    "## Corrections\n",
    "\n",
    "### 3.3 - Mathematical Expressions\n",
    "\n",
    "<img src=\"{{site.baseurl}}/images/3.3_image.png\">\n",
    "\n",
    "Correct Answer: C - The expression count, MOD, 10 equals 0 evaluates to true when count is a multiple of 10, and so this code segment sets cost to 0 under the conditions.\n",
    "\n",
    "### 3.6 - Conditionals\n",
    "\n",
    "<img src=\"{{site.baseurl}}/images/3.6_image.png\">\n",
    "\n",
    "Correct Answer: C - This code segment initially ticket Price to 12, and then changes the price to 9 only for children and seniors. The code segment then increases ticket Price by 5 for 3-D movies, as asked in the problem.\n",
    "\n",
    "### 5.4 - Crowdsourcing\n",
    "\n",
    "<img src=\"{{site.baseurl}}/images/5.4_image.png\">\n",
    "\n",
    "Correct Answer: C - This would be an appropriate usage of citizen science. If data measurements needed to be taken from many locations, participants from around the world collecting data would make the process easier.\n",
    "\n",
    "### 3.1 - Variables and Expressions\n",
    "\n",
    "<img src=\"{{site.baseurl}}/images/3.1_image.png\">\n",
    "\n",
    "Correct Answer: C - The code segment initially sets start to 1, end to 20, and current to 3. Next, the code segment sets start to the value of current, which is 3. Then current is increased from 3 to 4. The final values of start and current are 3 and 4.\n",
    "\n",
    "### 3.5 - Boolean Expressions\n",
    "\n",
    "<img src=\"{{site.baseurl}}/images/3.5_image.png\">\n",
    "\n",
    "Correct Answer: A - With these inputs, the AND gate will produce an output of false and the first OR gate will produce an output of false. Since both inputs to the second OR gate will be false, the circuit will have an output of false.\n",
    "\n",
    "### 4.1 - The Internet\n",
    "\n",
    "<img src=\"{{site.baseurl}}/images/4.1_image.png\">\n",
    "\n",
    "Correct Answer: A - Open standards and protocols are used to prescribe the format of data sent over the Internet. This allows all connected hardware and software to communicate in a standard way.\n",
    "\n",
    "### 3.9 - Developing Algorithms\n",
    "\n",
    "<img src=\"{{site.baseurl}}/images/3.9_image.png\">\n",
    "\n",
    "Correct Answer: C - The programs each display ten values, but each value displayed by program B is one greater than the corresponding value from program A. Program A displays 1 2 3 4 5 6 7 8 9 10 and program B displays  2 3 4 5 6 7 8 9 10 11.\n",
    "\n",
    "\n",
    "## Steps to Improve\n",
    "\n",
    "The purpose of taking this exam was to demonstrate my knowledge of the course concepts of AP Computer Science Principles. In order to further my understanding and knowledge, I will watch  the provided videos on each of the questions I got wrong.\n",
    "\n",
    "<img src=\"{{site.baseurl}}/images/improvement_image.png\">"
   ]
  }
 ],
 "metadata": {
  "kernelspec": {
   "display_name": "Emoji",
   "language": "python",
   "name": "python3"
  },
  "language_info": {
   "codemirror_mode": {
    "name": "ipython",
    "version": 3
   },
   "file_extension": ".py",
   "mimetype": "text/x-python",
   "name": "python",
   "nbconvert_exporter": "python",
   "pygments_lexer": "ipython3",
   "version": "3.12.5"
  }
 },
 "nbformat": 4,
 "nbformat_minor": 2
}
