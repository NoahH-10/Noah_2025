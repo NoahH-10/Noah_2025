{
 "cells": [
  {
   "cell_type": "raw",
   "metadata": {
    "vscode": {
     "languageId": "raw"
    }
   },
   "source": [
    "---\n",
    "layout: post\n",
    "title: Sprint 3 MCQ Blog\n",
    "type: issues \n",
    "comments: true\n",
    "permalink: /sprint-3-MCQ-Blog\n",
    "---"
   ]
  },
  {
   "cell_type": "markdown",
   "metadata": {},
   "source": [
    "# Multiple Choice Quiz Reflection:\n",
    "\n",
    "## My Score: 59/66\n",
    "\n",
    "I found the quiz to be challenging, but the questions mainly required extended thought and deductive reasoning, so I am not surprised about my score. The questions I got wrong were either worded in a way I found confusing or about a concept I had never heard of and my reasoning was incorrect. The quiz took me over 3 hours to complete, mainly due to going back over questions with peers and discussing different ideas.\n",
    "\n",
    "For example, question 29 had a diagram with three logic gates and I had to determine which of the given input values would output false for the circuit. I did not know how the logic gate worked at all, and plugging in true's and false's for the answer did not make sense to me because I could not think of a way to proceed past the original gate unless both inputs were either true or false. My option was incorrect because with my inputs, the AND gate produced an output of false and the first OR gate produced an output of true, causing the second OR gate to have one false input and one true input, causing the circuit to have an output of true when it is supposed to be false. \n",
    "\n",
    "A question that demonstrated a concept I had never heard of was question 3, which was about \"citizen science.\" I hypothesized that citizen science was something about ordinary people helping scientists collect data, so the related experiment should be simple and not require specialized knowledge or skill, which eliminated two answers. I chose the option that said \"An experiment that requires all participants to be working in the same laboratory.\" According to the dictionary, citizen science is \"the collection and analysis of data relating to the natural world by members of the general public, typically as part of a collaborative project with professional scientists.\" This basically means what I guessed, that ordinary citizens collaborate with professional scientists to collect data, and my reasoning was sound that the experiment should be simple, not involve expensive equipment, and not require specialized knowledge or skill. The option I chose was incorrect because if all of the participants were in the same location, why would they need the citizens when it could be done by the scientists themselves. The correct answer said \"an experiment that requires data measurements to be taken in many different locations,\" which makes more sense than my choice because why would scientists enlist help from the public unless they wanted data from different locations, and using citizens would make the process easier and quicker?\n",
    "\n",
    "All in all, strong spots for me on this test included answered questions based on analyzing given data and understanding the internet concepts, like the questions about metadata, reducing the digital divide, and redundant routing. Weak spots mostly included some psuedocode that I did not understand, like the diagram with three logic gates, a question that compared loop algorithms, and a question regarded frequent customers of a snack bar that asked me to find the correct code segment for the prompt.\n",
    "\n",
    "Contributing factors to my high score on the quiz are my collaboration with other members of AP CSP and the fact that I completed an AP CSP course on Khan Academy before this school year to prepare for what I could possibly learn. I took the course considering that it couldn't hurt to take the it, it was free, I had some time during the summer, and I did not want to go into AP CSP blind knowing I had little to no coding knowledge.\n",
    "\n",
    "The quiz helped me collaborate and share differing ideas with my peers and gave me a rough idea about the concepts that will be on the AP CSP test at the end of the year. "
   ]
  }
 ],
 "metadata": {
  "kernelspec": {
   "display_name": "Emoji",
   "language": "python",
   "name": "python3"
  },
  "language_info": {
   "codemirror_mode": {
    "name": "ipython",
    "version": 3
   },
   "file_extension": ".py",
   "mimetype": "text/x-python",
   "name": "python",
   "nbconvert_exporter": "python",
   "pygments_lexer": "ipython3",
   "version": "3.12.5"
  }
 },
 "nbformat": 4,
 "nbformat_minor": 2
}
