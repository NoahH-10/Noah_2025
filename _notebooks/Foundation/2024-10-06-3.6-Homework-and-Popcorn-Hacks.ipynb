{
 "cells": [
  {
   "attachments": {},
   "cell_type": "raw",
   "metadata": {
    "vscode": {
     "languageId": "raw"
    }
   },
   "source": [
    "---\n",
    "layout: post\n",
    "title: 3.6 Homework and Popcorn Hacks\n",
    "description: GitHub Pages Hacks\n",
    "type: issues \n",
    "comments: true\n",
    "permalink: /3-6-Homework\n",
    "---"
   ]
  },
  {
   "cell_type": "markdown",
   "metadata": {},
   "source": [
    "# Python Popcorn Hacks\n",
    "\n",
    "## Popcorn Hack 1:\n",
    "\n",
    "What would happen if you added more temperature ranges (like ‘warm’ for temperatures between 60 and 79 degrees)? How would you modify the code to implement this feature?”\n",
    "\n",
    "If I added more temperature ranges, then imputting different values for temperature would change its output. I would modify the code by adding an elif (else if) to add another coniditional for warm temperatures."
   ]
  },
  {
   "cell_type": "code",
   "execution_count": null,
   "metadata": {},
   "outputs": [],
   "source": [
    "# Step 1: Add a variable that represents temperature\n",
    "temperature = 50  # You can change this value to test different conditions\n",
    "\n",
    "# Step 2: Check if it’s a hot day\n",
    "if temperature >= 80:\n",
    "    print(\"It's a hot day\")\n",
    "# Step 3: Check if it’s a warm day\n",
    "elif 60 <= temperature <= 79:\n",
    "    print(\"It's a warm day\")\n",
    "# Step 4: Otherwise, print it's a cold day\n",
    "else:\n",
    "    print(\"It's a cold day\")"
   ]
  },
  {
   "cell_type": "markdown",
   "metadata": {},
   "source": [
    "# Python Homework Hacks\n",
    "\n",
    "## Problem 1:\n",
    "\n",
    "Description: This hack checks if a given number is odd or even.\n",
    "- Define a function named check_odd_even that takes one parameter: number.\n",
    "- Use an if statement to check if the number is divisible by 2.\n",
    "- Return \"Even\" if true; otherwise, return \"Odd\".\n",
    "Call the function with different numbers to test your work."
   ]
  },
  {
   "cell_type": "code",
   "execution_count": null,
   "metadata": {},
   "outputs": [],
   "source": [
    "def check_odd_even(number):\n",
    "    # Check if the number is divisible by 2 (even)\n",
    "    if number % 2 == 0:\n",
    "        return \"Even\"  # Return \"Even\" if divisible by 2\n",
    "    else:\n",
    "        return \"Odd\"   # Return \"Odd\" if not divisible by 2\n",
    "\n",
    "# Test the function with different numbers\n",
    "print(check_odd_even(10))   # Output: Even\n",
    "print(check_odd_even(3))   # Output: Odd\n",
    "print(check_odd_even(26))  # Output: Even\n",
    "print(check_odd_even(11))  # Output: Odd\n",
    "print(check_odd_even(0))   # Output: Even\n",
    "print(check_odd_even(-4))  # Output: Odd\n"
   ]
  },
  {
   "cell_type": "markdown",
   "metadata": {},
   "source": [
    "## Problem 2:\n",
    "\n",
    "Description: This hack determines if a given year is a leap year.\n",
    "\n",
    "- Define a function named is_leap_year that takes one parameter: year.\n",
    "- Use an if statement to check if the year is divisible by 4 but not by 100, or divisible by 400.\n",
    "- Return \"Leap Year\" if true; otherwise, return \"Not a Leap Year\".\n",
    "Call the function with different years to test your work."
   ]
  },
  {
   "cell_type": "code",
   "execution_count": null,
   "metadata": {},
   "outputs": [],
   "source": [
    "def is_leap_year(year):\n",
    "    # Check if the year is divisible by 4 but not by 100, or divisible by 400\n",
    "    if (year % 4 == 0 and year % 100 != 0) or (year % 400 == 0):\n",
    "        return \"Leap Year\"\n",
    "    else:\n",
    "        return \"Not a Leap Year\"\n",
    "\n",
    "# Test the function with different years\n",
    "print(is_leap_year(2024))  # Output: Leap Year\n",
    "print(is_leap_year(1700))  # Output: Not a Leap Year\n",
    "print(is_leap_year(2010))  # Output: Not Leap Year\n",
    "print(is_leap_year(2020))  # Output: Leap Year\n",
    "print(is_leap_year(2100))  # Output: Not a Leap Year\n",
    "print(is_leap_year(2400))  # Output: Leap Year\n"
   ]
  },
  {
   "cell_type": "markdown",
   "metadata": {},
   "source": [
    "## Problem 3:\n",
    "\n",
    "Description: This hack checks if a given temperature is considered cold, warm, or hot.\n",
    "\n",
    "- Define a function named temperature_range that takes one parameter: temperature.\n",
    "- Use if...elif...else statements to categorize the temperature:\n",
    "- Return \"Cold\" for temperatures below 60°F.\n",
    "- Return \"Warm\" for temperatures between 60°F and 80°F.\n",
    "- Return \"Hot\" for temperatures above 85°F.\n",
    "Call the function with different temperature values to check your work."
   ]
  },
  {
   "cell_type": "code",
   "execution_count": null,
   "metadata": {},
   "outputs": [],
   "source": [
    "# the instructions has a range error for values greater than 80 and less than 85, so I just fixed it.\n",
    "\n",
    "def temperature_range(temperature):\n",
    "    # Check if the temperature is cold, warm, or hot\n",
    "    if temperature < 60:\n",
    "        return \"Cold\"   # Return \"Cold\" if the temperature is below 60°F\n",
    "    elif 60 <= temperature <= 80:\n",
    "        return \"Warm\"   # Return \"Warm\" for temperatures between 60°F and 80°F (inclusive)\n",
    "    elif temperature > 80:\n",
    "        return \"Hot\"    # Return \"Hot\" if the temperature is above 85°F\n",
    "    else:\n",
    "        return \"Out of range\"  # Optional: Handle edge case where temperature is between 80°F and 85°F\n",
    "\n",
    "# Test the function with different temperatures\n",
    "print(temperature_range(53))   # Output: Cold\n",
    "print(temperature_range(74))   # Output: Warm\n",
    "print(temperature_range(120))   # Output: Hot\n",
    "print(temperature_range(80))   # Output: Warm\n",
    "print(temperature_range(84))   # Output: Hot\n"
   ]
  },
  {
   "cell_type": "markdown",
   "metadata": {},
   "source": [
    "# JavaScript Popcorn Hacks\n",
    "\n",
    "## Popcorn Hack 1:\n",
    "\n",
    "How would you change the code to show a message for scores below 60? What would you add?\n",
    "\n",
    "I would add an else if that says if the score is less than 60, then the code would say that the user failed."
   ]
  },
  {
   "cell_type": "code",
   "execution_count": null,
   "metadata": {
    "vscode": {
     "languageId": "javascript"
    }
   },
   "outputs": [],
   "source": [
    "let score = 85;\n",
    "\n",
    "if (score >= 60) {\n",
    "    console.log(\"You passed!\");\n",
    "} else if (score >= 60) {\n",
    "    console.log(\"You failed!\");\n",
    "} else {\n",
    "    console.log(\"You failed. Try harder next time!\");\n",
    "}"
   ]
  },
  {
   "cell_type": "markdown",
   "metadata": {},
   "source": [
    "# JavaScript Homework Hacks \n",
    "\n",
    "## Problem 1:\n",
    "Description: This hack checks if a person is eligible to vote based on their age.\n",
    "\n",
    "- Define a function named checkVotingEligibility that takes one parameter called age.\n",
    "- Inside the function, use an if statement to check if the age is 18 or older.\n",
    "- Return the message \"You are eligible to vote!\" if true; otherwise, return \"You are not eligible to vote yet.\".\n",
    "- Call the function with different age values to test your work"
   ]
  },
  {
   "cell_type": "code",
   "execution_count": null,
   "metadata": {
    "vscode": {
     "languageId": "javascript"
    }
   },
   "outputs": [],
   "source": [
    "function checkVotingEligibility(age) {\n",
    "    if (age >= 18) {\n",
    "      return \"You are eligible to vote!\";\n",
    "    } else {\n",
    "      return \"You are not eligible to vote yet.\";\n",
    "    }\n",
    "  }\n",
    "  \n",
    "  // Testing the function with different ages\n",
    "  console.log(checkVotingEligibility(5)); // Output: ou are not eligible to vote yet.\n",
    "  console.log(checkVotingEligibility(30)); // Output: You are eligible to vote!\n",
    "  console.log(checkVotingEligibility(18)); // Output: You are eligible to vote!\n",
    "  "
   ]
  },
  {
   "cell_type": "markdown",
   "metadata": {},
   "source": [
    "## Problem 2:\n",
    "\n",
    "Description: This hack assigns a letter grade based on a numerical score.\n",
    "\n",
    "Define a function named getGrade that takes one parameter called score.\n",
    "- Use if...else if...else statements to determine the letter grade based on the score:\n",
    "- Return \"Grade: A\" for scores 90 and above.\n",
    "- Return \"Grade: B\" for scores between 80 and 89.\n",
    "- Return \"Grade: C\" for scores between 70 and 79.\n",
    "- Return \"Grade: F\" for scores below 70.\n",
    "Call the function with different scores to test your work."
   ]
  },
  {
   "cell_type": "code",
   "execution_count": null,
   "metadata": {
    "vscode": {
     "languageId": "javascript"
    }
   },
   "outputs": [],
   "source": [
    "\n",
    "function getGrade(score) {\n",
    "    if (score >= 90) {\n",
    "    console.log(\"Grade: A\");\n",
    "    } else if (score >= 80) {\n",
    "    console.log(\"Grade: B\");\n",
    "    } else if (score >= 70) {\n",
    "    console.log(\"Grade: C\");\n",
    "    } else {\n",
    "    console.log(\"Grade: F\");\n",
    "    }\n",
    "}\n",
    "\n",
    "console.log(getGrade (95)); // Output would be Grade: A\n",
    "console.log(getGrade (83)); // Output would be Grade: B\n",
    "console.log(getGrade (74)); // Output would be Grade: C\n",
    "console.log(getGrade (46)); // Output would be Grade: F"
   ]
  },
  {
   "cell_type": "markdown",
   "metadata": {},
   "source": [
    "## Problem 3:\n",
    "\n",
    "Description: This hack converts temperatures between Celsius and Fahrenheit.\n",
    "\n",
    "Define a function named convertTemperature that takes two parameters: value (the temperature) and scale (either “C” or “F”).\n",
    "- Use an if statement to check the scale:\n",
    "- If it’s “C”, convert the temperature to Fahrenheit using the formula (value * 9/5) + 32 and return the result with \"°F\".\n",
    "- If it’s “F”, convert to Celsius using (value - 32) * 5/9 and return the result with \"°C\".\n",
    "- If the scale is neither, return an error message.\n",
    "Test the function with different values and scales to check your work"
   ]
  },
  {
   "cell_type": "code",
   "execution_count": null,
   "metadata": {
    "vscode": {
     "languageId": "javascript"
    }
   },
   "outputs": [],
   "source": [
    "function convertTemperature(value, scale) {\n",
    "    if (scale === \"C\") {\n",
    "      // Convert Celsius to Fahrenheit\n",
    "      let fahrenheit = (value * 9/5) + 32;\n",
    "      return fahrenheit + \"°F\";\n",
    "    } else if (scale === \"F\") {\n",
    "      // Convert Fahrenheit to Celsius\n",
    "      let celsius = (value - 32) * 5/9;\n",
    "      return celsius + \"°C\";\n",
    "    } else {\n",
    "      // Error if scale is neither \"C\" nor \"F\"\n",
    "      return \"Error: Invalid scale. Please use 'C' for Celsius or 'F' for Fahrenheit.\";\n",
    "    }\n",
    "  }\n",
    "  \n",
    "  // Testing the function with different values and scales\n",
    "  console.log(convertTemperature(36, \"C\"));  // Output: 96.8°F\n",
    "  console.log(convertTemperature(90, \"F\"));  // Output: 32.2°C\n",
    "  console.log(convertTemperature(205, \"F\")); // Output: 96.1°C\n",
    "  console.log(convertTemperature(64, \"C\"));  // Output: 147.2°F\n",
    "  console.log(convertTemperature(50, \"K\")); // Output: Error: Invalid scale. Please use 'C' for Celsius or 'F' for Fahrenheit.\n",
    "  "
   ]
  }
 ],
 "metadata": {
  "kernelspec": {
   "display_name": "Python 3 (ipykernel)",
   "language": "python",
   "name": "python3"
  },
  "language_info": {
   "codemirror_mode": {
    "name": "ipython",
    "version": 3
   },
   "file_extension": ".py",
   "mimetype": "text/x-python",
   "name": "python",
   "nbconvert_exporter": "python",
   "pygments_lexer": "ipython3",
   "version": "3.12.6"
  }
 },
 "nbformat": 4,
 "nbformat_minor": 4
}
