{
 "cells": [
  {
   "cell_type": "raw",
   "metadata": {
    "vscode": {
     "languageId": "raw"
    }
   },
   "source": [
    "---\n",
    "layout: post\n",
    "title: Python Data Types\n",
    "description:  Hack 3 for Hacks Tools & Equipment Play\n",
    "type: issues \n",
    "comments: true\n",
    "permalink: /Python-Data-Types\n",
    "---"
   ]
  },
  {
   "cell_type": "code",
   "execution_count": 6,
   "metadata": {},
   "outputs": [
    {
     "name": "stdout",
     "output_type": "stream",
     "text": [
      "Print test data: 100\n",
      "Mean of single number: 100.0\n",
      "\n",
      "Print test data: [90.5, 100, 85.4, 88]\n",
      "Average score, loop method: 90.98\n",
      "Average score, function method: 90.98\n",
      "\n",
      "Print test data: [100, 'NaN', 90]\n",
      "Bad data: NaN in [100, 'NaN', 90]\n",
      "Mean with bad data: None\n"
     ]
    }
   ],
   "source": [
    "from typing import Union\n",
    "\n",
    "# Define types for mean function, trying to analyze input possibilities\n",
    "Number = Union[int, float]  # Number can be either int or float type\n",
    "Numbers = list[Number] # Numbers is a list of Number types\n",
    "Scores = Union[Number, Numbers] # Scores can be single or multiple \n",
    "\n",
    "def mean(scores: Scores, method: int = 1) -> float:\n",
    "    \"\"\"\n",
    "    Calculate the mean of a list of scores.\n",
    "    \n",
    "    Average and Average2 are hidden functions performing mean algorithm\n",
    "\n",
    "    If a single score is provided in scores, it is returned as the mean.\n",
    "    If a list of scores is provided, the average is calculated and returned.\n",
    "    \"\"\"\n",
    "    \n",
    "    def average(scores: Numbers) -> float: \n",
    "        \"\"\"Calculate the average of a list of scores using a Python for loop.\"\"\"\n",
    "        total_sum = 0\n",
    "        count = 0\n",
    "        for score in scores:\n",
    "            if isinstance(score, (int, float)):  # Check if score is numeric\n",
    "                total_sum += score\n",
    "                count += 1\n",
    "            else:\n",
    "                print(f\"Bad data: {score} in {scores}\")\n",
    "                return None  # Return None instead of exiting\n",
    "        if count == 0:  # Handle case where count is zero to avoid division by zero\n",
    "            return None\n",
    "        return total_sum / count\n",
    "    \n",
    "    def average2(scores: Numbers) -> float:\n",
    "        \"\"\"Calculate the average of a list of scores using the built-in sum() function.\"\"\"\n",
    "        return sum(scores) / len(scores)\n",
    "\n",
    "    if isinstance(scores, list):\n",
    "        if method == 1:\n",
    "            result = average(scores)\n",
    "        else:\n",
    "            result = average2(scores)\n",
    "        if result is not None:\n",
    "            return round(result + 0.005, 2)\n",
    "        else:\n",
    "            return None\n",
    "    \n",
    "    # Handle case where scores is a single number\n",
    "    if isinstance(scores, (int, float)):\n",
    "        return float(scores)\n",
    "    \n",
    "    return None\n",
    "\n",
    "# Try with one number\n",
    "singleScore = 100\n",
    "print(\"Print test data: \" + str(singleScore))\n",
    "print(\"Mean of single number: \" + str(mean(singleScore)))\n",
    "\n",
    "print()\n",
    "\n",
    "# Define a list of numbers\n",
    "testScores = [90.5, 100, 85.4, 88]\n",
    "print(\"Print test data: \" + str(testScores))\n",
    "print(\"Average score, loop method: \" + str(mean(testScores)))\n",
    "print(\"Average score, function method: \" + str(mean(testScores, 2)))\n",
    "\n",
    "print()\n",
    "\n",
    "# Test with bad data\n",
    "badData = [100, \"NaN\", 90]\n",
    "print(\"Print test data: \" + str(badData))\n",
    "print(\"Mean with bad data: \" + str(mean(badData)))\n",
    "\n"
   ]
  },
  {
   "cell_type": "markdown",
   "metadata": {},
   "source": []
  }
 ],
 "metadata": {
  "kernelspec": {
   "display_name": "Emoji",
   "language": "python",
   "name": "python3"
  },
  "language_info": {
   "codemirror_mode": {
    "name": "ipython",
    "version": 3
   },
   "file_extension": ".py",
   "mimetype": "text/x-python",
   "name": "python",
   "nbconvert_exporter": "python",
   "pygments_lexer": "ipython3",
   "version": "3.12.5"
  }
 },
 "nbformat": 4,
 "nbformat_minor": 2
}
