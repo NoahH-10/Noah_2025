{
 "cells": [
  {
   "attachments": {},
   "cell_type": "raw",
   "metadata": {
    "vscode": {
     "languageId": "raw"
    }
   },
   "source": [
    "---\n",
    "layout: post\n",
    "title: Games\n",
    "description: Tic-Tac-Toe\n",
    "type: issues \n",
    "comments: true\n",
    "permalink: /tic-tac-toe\n",
    "---"
   ]
  },
  {
   "cell_type": "code",
   "execution_count": 2,
   "metadata": {},
   "outputs": [
    {
     "data": {
      "application/vnd.jupyter.widget-view+json": {
       "model_id": "5b63eb2b86ec48ba835f451661b9f387",
       "version_major": 2,
       "version_minor": 0
      },
      "text/plain": [
       "VBox(children=(HBox(children=(Button(description='0', layout=Layout(height='60px', width='60px'), style=Button…"
      ]
     },
     "metadata": {},
     "output_type": "display_data"
    }
   ],
   "source": [
    "import ipywidgets as widgets\n",
    "from IPython.display import display, clear_output\n",
    "\n",
    "board = [' ' for _ in range(9)]\n",
    "current_player = 'X'\n",
    "\n",
    "def on_button_click(b):\n",
    "    global current_player\n",
    "    idx = int(b.description)\n",
    "    if board[idx] == ' ':\n",
    "        board[idx] = current_player\n",
    "        b.description = current_player\n",
    "        check_winner()\n",
    "        current_player = 'O' if current_player == 'X' else 'X'\n",
    "        display_board()\n",
    "\n",
    "def display_board():\n",
    "    clear_output(wait=True)\n",
    "    grid = [widgets.Button(description=str(i), layout=widgets.Layout(width='60px', height='60px')) for i in range(9)]\n",
    "    for i, button in enumerate(grid):\n",
    "        button.on_click(on_button_click)\n",
    "        if board[i] != ' ':\n",
    "            button.description = board[i]\n",
    "    display(widgets.VBox([widgets.HBox(grid[i:i+3]) for i in range(0, 9, 3)]))\n",
    "\n",
    "def check_winner():\n",
    "    winning_combinations = [(0, 1, 2), (3, 4, 5), (6, 7, 8), \n",
    "                            (0, 3, 6), (1, 4, 7), (2, 5, 8), \n",
    "                            (0, 4, 8), (2, 4, 6)]\n",
    "    for combo in winning_combinations:\n",
    "        if board[combo[0]] == board[combo[1]] == board[combo[2]] != ' ':\n",
    "            clear_output(wait=True)\n",
    "            print(f\"Player {board[combo[0]]} wins!\")\n",
    "            return\n",
    "\n",
    "display_board()\n"
   ]
  }
 ],
 "metadata": {
  "kernelspec": {
   "display_name": "Python 3 (ipykernel)",
   "language": "python",
   "name": "python3"
  },
  "language_info": {
   "codemirror_mode": {
    "name": "ipython",
    "version": 3
   },
   "file_extension": ".py",
   "mimetype": "text/x-python",
   "name": "python",
   "nbconvert_exporter": "python",
   "pygments_lexer": "ipython3",
   "version": "3.12.5"
  }
 },
 "nbformat": 4,
 "nbformat_minor": 4
}
